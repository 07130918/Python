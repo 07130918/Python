{
 "cells": [
  {
   "cell_type": "code",
   "execution_count": 36,
   "id": "f0e94ec4",
   "metadata": {},
   "outputs": [],
   "source": [
    "import csv"
   ]
  },
  {
   "cell_type": "code",
   "execution_count": 10,
   "id": "df9070e5",
   "metadata": {},
   "outputs": [],
   "source": [
    "with open(\"jinko.txt\") as f:\n",
    "    l = f.readline()\n",
    "    while l:\n",
    "        l = f.readline().strip()\n",
    "#         print(l)"
   ]
  },
  {
   "cell_type": "code",
   "execution_count": 13,
   "id": "100ce6c7",
   "metadata": {},
   "outputs": [
    {
     "name": "stdout",
     "output_type": "stream",
     "text": [
      "['北海道', '札幌市', '1913545']\n",
      "['北海道', '函館市', '279127']\n",
      "['北海道', '小樽市', '131928']\n",
      "['北海道', '旭川市', '347095']\n",
      "['北海道', '室蘭市', '94535']\n"
     ]
    }
   ],
   "source": [
    "with open(\"jinko.txt\") as f:\n",
    "    for i, line in enumerate(f):\n",
    "        if i == 0:\n",
    "            continue\n",
    "        l = line.strip()\n",
    "        v = l.split(\",\")\n",
    "        print(v)\n",
    "        if i >= 5 :\n",
    "            break"
   ]
  },
  {
   "cell_type": "code",
   "execution_count": 17,
   "id": "ee7b81e1",
   "metadata": {},
   "outputs": [
    {
     "name": "stdout",
     "output_type": "stream",
     "text": [
      "['北海道', '札幌市', '1913545']\n",
      "['北海道', '函館市', '279127']\n",
      "['北海道', '小樽市', '131928']\n",
      "['北海道', '旭川市', '347095']\n",
      "['北海道', '室蘭市', '94535']\n"
     ]
    }
   ],
   "source": [
    "with open(\"jinko.txt\") as f:\n",
    "    for i,data in enumerate(csv.reader(f)):\n",
    "        if i == 0 :\n",
    "            continue\n",
    "        print(data)\n",
    "        if i >= 5 :\n",
    "            break"
   ]
  },
  {
   "cell_type": "code",
   "execution_count": 37,
   "id": "8bc4424e",
   "metadata": {},
   "outputs": [
    {
     "data": {
      "text/plain": [
       "5506419"
      ]
     },
     "execution_count": 37,
     "metadata": {},
     "output_type": "execute_result"
    }
   ],
   "source": [
    "s = 0\n",
    "with open(\"jinko.txt\") as f:\n",
    "    reader = csv.reader(f)\n",
    "    for l in reader:\n",
    "        if l[0] == \"北海道\":\n",
    "            s += int(l[2])\n",
    "s"
   ]
  },
  {
   "cell_type": "code",
   "execution_count": 31,
   "id": "946b6a0f",
   "metadata": {},
   "outputs": [],
   "source": [
    "with open(\"writeexample.txt\", \"w\") as f:\n",
    "    f.write(\"abc\\n\")\n",
    "    f.write(\"defgh\")"
   ]
  },
  {
   "cell_type": "code",
   "execution_count": 35,
   "id": "8ddbe84e",
   "metadata": {},
   "outputs": [],
   "source": [
    "data = [\"abc\", \"defgh\"]\n",
    "with open(\"writeexample2-2.txt\", \"w\") as f:\n",
    "    for l in data:\n",
    "        f.write(l + \"\\n\")"
   ]
  },
  {
   "cell_type": "code",
   "execution_count": 38,
   "id": "16f741a3",
   "metadata": {},
   "outputs": [],
   "source": [
    "alldata = [\n",
    "   [1, 2, 3],\n",
    "   [2, 3, 5]\n",
    "]\n",
    "\n",
    "with open(\"writeexample4.txt\", \"w\") as f:\n",
    "    writer = csv.writer(f)\n",
    "    writer.writerows(alldata)\n"
   ]
  },
  {
   "cell_type": "code",
   "execution_count": null,
   "id": "5c9c7dbb",
   "metadata": {},
   "outputs": [],
   "source": []
  }
 ],
 "metadata": {
  "kernelspec": {
   "display_name": "Python 3 (ipykernel)",
   "language": "python",
   "name": "python3"
  },
  "language_info": {
   "codemirror_mode": {
    "name": "ipython",
    "version": 3
   },
   "file_extension": ".py",
   "mimetype": "text/x-python",
   "name": "python",
   "nbconvert_exporter": "python",
   "pygments_lexer": "ipython3",
   "version": "3.8.3"
  }
 },
 "nbformat": 4,
 "nbformat_minor": 5
}
