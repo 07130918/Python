{
 "cells": [
  {
   "cell_type": "code",
   "execution_count": 3,
   "id": "b6f16021",
   "metadata": {},
   "outputs": [
    {
     "name": "stdout",
     "output_type": "stream",
     "text": [
      "team      win lose draw rate\n",
      "Giants     77   64    2 0.546\n",
      "BayStars   71   69    3 0.507\n",
      "Tigers     69   68    6 0.504\n",
      "Carp       70   70    3 0.500\n",
      "Dragons    68   73    2 0.482\n",
      "Swallows   59   82    2 0.418\n"
     ]
    }
   ],
   "source": [
    "class Baseball_Team:\n",
    "    \n",
    "    def __init__(self, name, win, lose, draw):\n",
    "        self.name = name\n",
    "        self.win = win\n",
    "        self.lose = lose\n",
    "        self.draw = draw\n",
    "    \n",
    "    def calc_win_rate(self):\n",
    "        return self.win / (self.win + self.lose)\n",
    "    \n",
    "    def show_team_result(self):\n",
    "        win_rate = self.calc_win_rate()\n",
    "        print(f\"{self.name:11}{self.win}{' ':3}{self.lose}{'':4}{self.draw} {win_rate:.3f}\")\n",
    "    \n",
    "\n",
    "Giants = Baseball_Team(\"Giants\", 77, 64, 2)\n",
    "BayStars = Baseball_Team(\"BayStars\", 71, 69, 3)\n",
    "Tigers = Baseball_Team(\"Tigers\", 69, 68, 6)\n",
    "Carp = Baseball_Team(\"Carp\", 70, 70, 3)\n",
    "Dragons = Baseball_Team(\"Dragons\", 68, 73, 2)\n",
    "Swallows = Baseball_Team(\"Swallows\", 59, 82, 2)\n",
    "\n",
    "teams = [Giants, BayStars, Tigers, Carp, Dragons, Swallows]\n",
    "print(f\"team {' ':4} win lose draw rate\")\n",
    "for team in teams:\n",
    "    team.show_team_result()"
   ]
  },
  {
   "cell_type": "code",
   "execution_count": null,
   "id": "80070de9",
   "metadata": {},
   "outputs": [],
   "source": []
  }
 ],
 "metadata": {
  "kernelspec": {
   "display_name": "Python 3 (ipykernel)",
   "language": "python",
   "name": "python3"
  },
  "language_info": {
   "codemirror_mode": {
    "name": "ipython",
    "version": 3
   },
   "file_extension": ".py",
   "mimetype": "text/x-python",
   "name": "python",
   "nbconvert_exporter": "python",
   "pygments_lexer": "ipython3",
   "version": "3.8.3"
  }
 },
 "nbformat": 4,
 "nbformat_minor": 5
}
