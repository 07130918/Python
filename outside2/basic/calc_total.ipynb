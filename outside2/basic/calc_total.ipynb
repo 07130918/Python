{
 "cells": [
  {
   "cell_type": "code",
   "execution_count": 4,
   "id": "92a3c51e",
   "metadata": {},
   "outputs": [
    {
     "name": "stdin",
     "output_type": "stream",
     "text": [
      "税抜価格を入力してください： 1800\n"
     ]
    },
    {
     "name": "stdout",
     "output_type": "stream",
     "text": [
      "送料として350円かかります\n",
      "送料込みの価格は2330円です。\n"
     ]
    }
   ],
   "source": [
    "price = int(input(\"税抜価格を入力してください：\"))\n",
    "price_with_tax = int(price * 1.1)\n",
    "\n",
    "if price_with_tax >= 2000:\n",
    "    print(\"送料は無料です\")\n",
    "else:\n",
    "    print(\"送料として350円かかります\")\n",
    "    price_with_tax += 350\n",
    "    \n",
    "print(f\"送料込みの価格は{price_with_tax}円です。\")"
   ]
  },
  {
   "cell_type": "code",
   "execution_count": null,
   "id": "29cc85c5",
   "metadata": {},
   "outputs": [],
   "source": []
  }
 ],
 "metadata": {
  "kernelspec": {
   "display_name": "Python 3 (ipykernel)",
   "language": "python",
   "name": "python3"
  },
  "language_info": {
   "codemirror_mode": {
    "name": "ipython",
    "version": 3
   },
   "file_extension": ".py",
   "mimetype": "text/x-python",
   "name": "python",
   "nbconvert_exporter": "python",
   "pygments_lexer": "ipython3",
   "version": "3.8.3"
  }
 },
 "nbformat": 4,
 "nbformat_minor": 5
}
