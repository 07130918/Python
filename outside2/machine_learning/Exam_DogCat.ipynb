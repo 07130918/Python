{
 "cells": [
  {
   "cell_type": "markdown",
   "id": "9d3d45ad",
   "metadata": {},
   "source": [
    "# 機械学習の手順\n",
    "1. import\n",
    "2. データを訓練データとテストデータに分ける\n",
    "3. モデルを作って学習する\n",
    "4. 判定"
   ]
  },
  {
   "cell_type": "markdown",
   "id": "20ab1895",
   "metadata": {},
   "source": [
    "## 1. import"
   ]
  },
  {
   "cell_type": "code",
   "execution_count": 1,
   "id": "e2f51eaf",
   "metadata": {},
   "outputs": [],
   "source": [
    "import numpy as np\n",
    "import pandas as pd\n",
    "from PIL import Image\n",
    "from sklearn.svm import SVC\n",
    "from sklearn import metrics"
   ]
  },
  {
   "cell_type": "markdown",
   "id": "d4a409cc",
   "metadata": {},
   "source": [
    "## 2. データを訓練データとテストデータに分ける"
   ]
  },
  {
   "cell_type": "code",
   "execution_count": 2,
   "id": "35443b0d",
   "metadata": {},
   "outputs": [],
   "source": [
    "# cat: 0, dog: 1\n",
    "train_data = pd.read_csv(\"dc_photos/train/train_data.csv\")\n",
    "test_data = pd.read_csv(\"dc_photos/test/test_data.csv\")"
   ]
  },
  {
   "cell_type": "markdown",
   "id": "adec02a0",
   "metadata": {},
   "source": [
    "#### 説明変数（X）に画像データ、目的変数（y）にCSVファイルのDC列のデータを読み込む"
   ]
  },
  {
   "cell_type": "markdown",
   "id": "a62e757c",
   "metadata": {},
   "source": [
    "```\n",
    "前処理: 画像はモノクロにする。\n",
    "    \n",
    "水増し: 左右反転したもの,上下反転したもの,180度回転させたものを作り4倍に水増し。\n",
    "```"
   ]
  },
  {
   "cell_type": "markdown",
   "id": "4c909bd2",
   "metadata": {},
   "source": [
    "- 訓練データの作成"
   ]
  },
  {
   "cell_type": "code",
   "execution_count": 3,
   "id": "1af0503d",
   "metadata": {},
   "outputs": [],
   "source": [
    "train_len = len(train_data)\n",
    "\n",
    "# 後でデータを入れる空の配列を作成(画像は75ピクセル)\n",
    "X_train = np.empty((train_len * 4, 75 * 75), dtype=np.uint8)\n",
    "y_train = np.empty(train_len * 4, dtype=np.uint8)\n",
    "\n",
    "for i in range(len(train_data)):\n",
    "    name = train_data.loc[i, \"File name\"]\n",
    "    train_img = Image.open(f\"dc_photos/train/{name}.jpg\").convert(\"L\")\n",
    "    train_img = np.array(train_img)\n",
    "    train_img_f = train_img.flatten()\n",
    "    X_train[i] = train_img_f\n",
    "    y_train[i] = train_data.loc[i, \"DC\"]   \n",
    "\n",
    "    # 左右反転させたものを訓練データに追加\n",
    "    train_img_lr = np.fliplr(train_img)\n",
    "    train_img_lr_f = train_img_lr.flatten()\n",
    "    X_train[i + train_len] = train_img_lr_f\n",
    "    y_train[i + train_len] = train_data.loc[i, \"DC\"]\n",
    "\n",
    "    # 上下反転させたものを訓練データに追加\n",
    "    train_img_ud = np.flipud(train_img) \n",
    "    train_img_ud_f = train_img_ud.flatten()\n",
    "    X_train[i + train_len * 2] = train_img_ud_f\n",
    "    y_train[i + train_len * 2] = train_data.loc[i, \"DC\"]\n",
    "\n",
    "    # 180度回転させたものを訓練データに追加\n",
    "    train_img_180 = np.rot90(train_img, 2)\n",
    "    train_img_180_f = train_img_180.flatten()\n",
    "    X_train[i + train_len * 3] = train_img_180_f\n",
    "    y_train[i + train_len * 3] = train_data.loc[i, \"DC\"]"
   ]
  },
  {
   "cell_type": "markdown",
   "id": "20dcdca9",
   "metadata": {},
   "source": [
    "- テストデータの作成"
   ]
  },
  {
   "cell_type": "code",
   "execution_count": 4,
   "id": "f01688f4",
   "metadata": {},
   "outputs": [],
   "source": [
    "test_len = len(test_data)\n",
    "\n",
    "X_test = np.empty((test_len, 75 * 75), dtype=np.uint8)\n",
    "y_test = np.empty(test_len, dtype=np.uint8)\n",
    "\n",
    "for i in range(test_len):\n",
    "    name = test_data.loc[i, \"File name\"]\n",
    "    test_img = Image.open(f\"dc_photos/test/{name}.jpg\").convert(\"L\")\n",
    "    test_img = np.array(test_img)\n",
    "    test_img_f = test_img.flatten()\n",
    "    X_test[i] = test_img_f\n",
    "    y_test[i] = test_data.loc[i, \"DC\"]"
   ]
  },
  {
   "cell_type": "markdown",
   "id": "172e8e2b",
   "metadata": {},
   "source": [
    "## 3.モデルを作って学習する"
   ]
  },
  {
   "cell_type": "code",
   "execution_count": 5,
   "id": "662e9bda",
   "metadata": {},
   "outputs": [
    {
     "data": {
      "text/plain": [
       "SVC(kernel='linear')"
      ]
     },
     "execution_count": 5,
     "metadata": {},
     "output_type": "execute_result"
    }
   ],
   "source": [
    "classifier = SVC(kernel=\"linear\")\n",
    "classifier.fit(X_train, y_train)"
   ]
  },
  {
   "cell_type": "code",
   "execution_count": 6,
   "id": "50065186",
   "metadata": {},
   "outputs": [
    {
     "data": {
      "text/plain": [
       "array([0, 0, 0, 0, 0, 1, 1, 0, 1, 1, 0, 0, 0, 0, 0, 0, 1, 1, 1, 1, 0, 0,\n",
       "       1, 0, 0, 1, 0, 0, 0, 0, 0, 1, 0, 0, 0, 0, 1, 1, 0, 0, 0, 0, 0, 0,\n",
       "       0, 0, 0, 1, 0, 0, 1, 1, 1, 1, 1, 0, 1, 1, 1, 1, 1, 1, 1, 0, 1, 1,\n",
       "       1, 1, 1, 1, 1, 1, 1, 1, 1, 1, 0, 1, 1, 0, 1, 1, 0, 1, 1, 1, 1, 1,\n",
       "       1, 1, 1, 1, 1, 1, 1, 1, 1, 1, 1, 1], dtype=uint8)"
      ]
     },
     "execution_count": 6,
     "metadata": {},
     "output_type": "execute_result"
    }
   ],
   "source": [
    "y_pred = classifier.predict(X_test)\n",
    "y_pred"
   ]
  },
  {
   "cell_type": "code",
   "execution_count": 7,
   "id": "d424116c",
   "metadata": {},
   "outputs": [
    {
     "data": {
      "text/plain": [
       "array([0, 0, 0, 0, 0, 0, 0, 0, 0, 0, 0, 0, 0, 0, 0, 0, 0, 0, 0, 0, 0, 0,\n",
       "       0, 0, 0, 0, 0, 0, 0, 0, 0, 0, 0, 0, 0, 0, 0, 0, 0, 0, 0, 0, 0, 0,\n",
       "       0, 0, 0, 0, 0, 0, 1, 1, 1, 1, 1, 1, 1, 1, 1, 1, 1, 1, 1, 1, 1, 1,\n",
       "       1, 1, 1, 1, 1, 1, 1, 1, 1, 1, 1, 1, 1, 1, 1, 1, 1, 1, 1, 1, 1, 1,\n",
       "       1, 1, 1, 1, 1, 1, 1, 1, 1, 1, 1, 1], dtype=uint8)"
      ]
     },
     "execution_count": 7,
     "metadata": {},
     "output_type": "execute_result"
    }
   ],
   "source": [
    "y_test"
   ]
  },
  {
   "cell_type": "markdown",
   "id": "62a1a50c",
   "metadata": {},
   "source": [
    "## 4.判定"
   ]
  },
  {
   "cell_type": "code",
   "execution_count": 8,
   "id": "90e6f7e5",
   "metadata": {},
   "outputs": [
    {
     "data": {
      "text/plain": [
       "array([[36, 14],\n",
       "       [ 5, 45]])"
      ]
     },
     "execution_count": 8,
     "metadata": {},
     "output_type": "execute_result"
    }
   ],
   "source": [
    "metrics.confusion_matrix(y_test, y_pred)"
   ]
  },
  {
   "cell_type": "code",
   "execution_count": 9,
   "id": "e1758875",
   "metadata": {},
   "outputs": [
    {
     "data": {
      "text/plain": [
       "0.81"
      ]
     },
     "execution_count": 9,
     "metadata": {},
     "output_type": "execute_result"
    }
   ],
   "source": [
    "# 正答率\n",
    "metrics.accuracy_score(y_test, y_pred)"
   ]
  },
  {
   "cell_type": "code",
   "execution_count": 10,
   "id": "047cabd4",
   "metadata": {},
   "outputs": [
    {
     "name": "stdout",
     "output_type": "stream",
     "text": [
      "              precision    recall  f1-score   support\n",
      "\n",
      "           0       0.88      0.72      0.79        50\n",
      "           1       0.76      0.90      0.83        50\n",
      "\n",
      "    accuracy                           0.81       100\n",
      "   macro avg       0.82      0.81      0.81       100\n",
      "weighted avg       0.82      0.81      0.81       100\n",
      "\n"
     ]
    }
   ],
   "source": [
    "print(metrics.classification_report(y_test, y_pred))"
   ]
  }
 ],
 "metadata": {
  "kernelspec": {
   "display_name": "Python 3 (ipykernel)",
   "language": "python",
   "name": "python3"
  },
  "language_info": {
   "codemirror_mode": {
    "name": "ipython",
    "version": 3
   },
   "file_extension": ".py",
   "mimetype": "text/x-python",
   "name": "python",
   "nbconvert_exporter": "python",
   "pygments_lexer": "ipython3",
   "version": "3.8.3"
  }
 },
 "nbformat": 4,
 "nbformat_minor": 5
}
