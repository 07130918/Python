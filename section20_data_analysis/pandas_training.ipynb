{
 "cells": [
  {
   "cell_type": "code",
   "execution_count": 1,
   "id": "3b21e9e8",
   "metadata": {},
   "outputs": [],
   "source": [
    "import numpy as np\n",
    "import pandas as pd"
   ]
  },
  {
   "cell_type": "code",
   "execution_count": 2,
   "id": "2df5cf56",
   "metadata": {},
   "outputs": [],
   "source": [
    "s = pd.Series([1, 2, np.nan])"
   ]
  },
  {
   "cell_type": "code",
   "execution_count": 3,
   "id": "55ec61db",
   "metadata": {},
   "outputs": [
    {
     "data": {
      "text/plain": [
       "0    1.0\n",
       "1    2.0\n",
       "2    NaN\n",
       "dtype: float64"
      ]
     },
     "execution_count": 3,
     "metadata": {},
     "output_type": "execute_result"
    }
   ],
   "source": [
    "s"
   ]
  },
  {
   "cell_type": "code",
   "execution_count": 4,
   "id": "ccfaed20",
   "metadata": {},
   "outputs": [
    {
     "data": {
      "text/plain": [
       "1.0"
      ]
     },
     "execution_count": 4,
     "metadata": {},
     "output_type": "execute_result"
    }
   ],
   "source": [
    "s[0]"
   ]
  },
  {
   "cell_type": "code",
   "execution_count": 5,
   "id": "6477b18b",
   "metadata": {},
   "outputs": [
    {
     "data": {
      "text/plain": [
       "3.0"
      ]
     },
     "execution_count": 5,
     "metadata": {},
     "output_type": "execute_result"
    }
   ],
   "source": [
    "s.sum()"
   ]
  },
  {
   "cell_type": "code",
   "execution_count": 6,
   "id": "82033f8f",
   "metadata": {},
   "outputs": [
    {
     "data": {
      "text/html": [
       "<div>\n",
       "<style scoped>\n",
       "    .dataframe tbody tr th:only-of-type {\n",
       "        vertical-align: middle;\n",
       "    }\n",
       "\n",
       "    .dataframe tbody tr th {\n",
       "        vertical-align: top;\n",
       "    }\n",
       "\n",
       "    .dataframe thead th {\n",
       "        text-align: right;\n",
       "    }\n",
       "</style>\n",
       "<table border=\"1\" class=\"dataframe\">\n",
       "  <thead>\n",
       "    <tr style=\"text-align: right;\">\n",
       "      <th></th>\n",
       "      <th>A</th>\n",
       "      <th>B</th>\n",
       "    </tr>\n",
       "  </thead>\n",
       "  <tbody>\n",
       "    <tr>\n",
       "      <th>0</th>\n",
       "      <td>1</td>\n",
       "      <td>3</td>\n",
       "    </tr>\n",
       "    <tr>\n",
       "      <th>1</th>\n",
       "      <td>2</td>\n",
       "      <td>4</td>\n",
       "    </tr>\n",
       "  </tbody>\n",
       "</table>\n",
       "</div>"
      ],
      "text/plain": [
       "   A  B\n",
       "0  1  3\n",
       "1  2  4"
      ]
     },
     "execution_count": 6,
     "metadata": {},
     "output_type": "execute_result"
    }
   ],
   "source": [
    "df = pd.DataFrame({'A': [1, 2], 'B': [3, 4]})\n",
    "df"
   ]
  },
  {
   "cell_type": "code",
   "execution_count": 7,
   "id": "b01f5baa",
   "metadata": {},
   "outputs": [
    {
     "data": {
      "text/html": [
       "<div>\n",
       "<style scoped>\n",
       "    .dataframe tbody tr th:only-of-type {\n",
       "        vertical-align: middle;\n",
       "    }\n",
       "\n",
       "    .dataframe tbody tr th {\n",
       "        vertical-align: top;\n",
       "    }\n",
       "\n",
       "    .dataframe thead th {\n",
       "        text-align: right;\n",
       "    }\n",
       "</style>\n",
       "<table border=\"1\" class=\"dataframe\">\n",
       "  <thead>\n",
       "    <tr style=\"text-align: right;\">\n",
       "      <th></th>\n",
       "      <th>A</th>\n",
       "      <th>B</th>\n",
       "      <th>C</th>\n",
       "      <th>D</th>\n",
       "    </tr>\n",
       "  </thead>\n",
       "  <tbody>\n",
       "    <tr>\n",
       "      <th>2021-07-27</th>\n",
       "      <td>-0.064797</td>\n",
       "      <td>2.310397</td>\n",
       "      <td>0.052132</td>\n",
       "      <td>-1.225728</td>\n",
       "    </tr>\n",
       "    <tr>\n",
       "      <th>2021-07-28</th>\n",
       "      <td>-0.121391</td>\n",
       "      <td>0.240072</td>\n",
       "      <td>-1.109627</td>\n",
       "      <td>0.164993</td>\n",
       "    </tr>\n",
       "    <tr>\n",
       "      <th>2021-07-29</th>\n",
       "      <td>0.119619</td>\n",
       "      <td>0.850873</td>\n",
       "      <td>0.725844</td>\n",
       "      <td>0.411190</td>\n",
       "    </tr>\n",
       "    <tr>\n",
       "      <th>2021-07-30</th>\n",
       "      <td>-0.058431</td>\n",
       "      <td>-0.510533</td>\n",
       "      <td>0.505219</td>\n",
       "      <td>0.024870</td>\n",
       "    </tr>\n",
       "    <tr>\n",
       "      <th>2021-07-31</th>\n",
       "      <td>0.144410</td>\n",
       "      <td>-0.514985</td>\n",
       "      <td>-1.192797</td>\n",
       "      <td>0.175636</td>\n",
       "    </tr>\n",
       "    <tr>\n",
       "      <th>2021-08-01</th>\n",
       "      <td>0.074873</td>\n",
       "      <td>1.477725</td>\n",
       "      <td>-0.042691</td>\n",
       "      <td>0.759562</td>\n",
       "    </tr>\n",
       "  </tbody>\n",
       "</table>\n",
       "</div>"
      ],
      "text/plain": [
       "                   A         B         C         D\n",
       "2021-07-27 -0.064797  2.310397  0.052132 -1.225728\n",
       "2021-07-28 -0.121391  0.240072 -1.109627  0.164993\n",
       "2021-07-29  0.119619  0.850873  0.725844  0.411190\n",
       "2021-07-30 -0.058431 -0.510533  0.505219  0.024870\n",
       "2021-07-31  0.144410 -0.514985 -1.192797  0.175636\n",
       "2021-08-01  0.074873  1.477725 -0.042691  0.759562"
      ]
     },
     "execution_count": 7,
     "metadata": {},
     "output_type": "execute_result"
    }
   ],
   "source": [
    "df = pd.DataFrame(np.random.randn(6, 4), index=pd.date_range('20210727', periods=6), columns=['A', 'B', 'C', 'D'])\n",
    "df"
   ]
  },
  {
   "cell_type": "code",
   "execution_count": 8,
   "id": "dcb07aab",
   "metadata": {},
   "outputs": [
    {
     "data": {
      "text/html": [
       "<div>\n",
       "<style scoped>\n",
       "    .dataframe tbody tr th:only-of-type {\n",
       "        vertical-align: middle;\n",
       "    }\n",
       "\n",
       "    .dataframe tbody tr th {\n",
       "        vertical-align: top;\n",
       "    }\n",
       "\n",
       "    .dataframe thead th {\n",
       "        text-align: right;\n",
       "    }\n",
       "</style>\n",
       "<table border=\"1\" class=\"dataframe\">\n",
       "  <thead>\n",
       "    <tr style=\"text-align: right;\">\n",
       "      <th></th>\n",
       "      <th>A</th>\n",
       "      <th>B</th>\n",
       "      <th>C</th>\n",
       "      <th>D</th>\n",
       "    </tr>\n",
       "  </thead>\n",
       "  <tbody>\n",
       "    <tr>\n",
       "      <th>2021-07-27</th>\n",
       "      <td>-0.064797</td>\n",
       "      <td>2.310397</td>\n",
       "      <td>0.052132</td>\n",
       "      <td>-1.225728</td>\n",
       "    </tr>\n",
       "    <tr>\n",
       "      <th>2021-07-28</th>\n",
       "      <td>-0.121391</td>\n",
       "      <td>0.240072</td>\n",
       "      <td>-1.109627</td>\n",
       "      <td>0.164993</td>\n",
       "    </tr>\n",
       "  </tbody>\n",
       "</table>\n",
       "</div>"
      ],
      "text/plain": [
       "                   A         B         C         D\n",
       "2021-07-27 -0.064797  2.310397  0.052132 -1.225728\n",
       "2021-07-28 -0.121391  0.240072 -1.109627  0.164993"
      ]
     },
     "execution_count": 8,
     "metadata": {},
     "output_type": "execute_result"
    }
   ],
   "source": [
    "df.head(2)"
   ]
  },
  {
   "cell_type": "code",
   "execution_count": 9,
   "id": "d6df9ca1",
   "metadata": {},
   "outputs": [
    {
     "data": {
      "text/html": [
       "<div>\n",
       "<style scoped>\n",
       "    .dataframe tbody tr th:only-of-type {\n",
       "        vertical-align: middle;\n",
       "    }\n",
       "\n",
       "    .dataframe tbody tr th {\n",
       "        vertical-align: top;\n",
       "    }\n",
       "\n",
       "    .dataframe thead th {\n",
       "        text-align: right;\n",
       "    }\n",
       "</style>\n",
       "<table border=\"1\" class=\"dataframe\">\n",
       "  <thead>\n",
       "    <tr style=\"text-align: right;\">\n",
       "      <th></th>\n",
       "      <th>A</th>\n",
       "      <th>B</th>\n",
       "      <th>C</th>\n",
       "      <th>D</th>\n",
       "    </tr>\n",
       "  </thead>\n",
       "  <tbody>\n",
       "    <tr>\n",
       "      <th>2021-08-01</th>\n",
       "      <td>0.074873</td>\n",
       "      <td>1.477725</td>\n",
       "      <td>-0.042691</td>\n",
       "      <td>0.759562</td>\n",
       "    </tr>\n",
       "  </tbody>\n",
       "</table>\n",
       "</div>"
      ],
      "text/plain": [
       "                   A         B         C         D\n",
       "2021-08-01  0.074873  1.477725 -0.042691  0.759562"
      ]
     },
     "execution_count": 9,
     "metadata": {},
     "output_type": "execute_result"
    }
   ],
   "source": [
    "df.tail(1)"
   ]
  },
  {
   "cell_type": "code",
   "execution_count": 10,
   "id": "4f559ddf",
   "metadata": {},
   "outputs": [
    {
     "data": {
      "text/plain": [
       "DatetimeIndex(['2021-07-27', '2021-07-28', '2021-07-29', '2021-07-30',\n",
       "               '2021-07-31', '2021-08-01'],\n",
       "              dtype='datetime64[ns]', freq='D')"
      ]
     },
     "execution_count": 10,
     "metadata": {},
     "output_type": "execute_result"
    }
   ],
   "source": [
    "df.index"
   ]
  },
  {
   "cell_type": "code",
   "execution_count": 11,
   "id": "61d2bc52",
   "metadata": {},
   "outputs": [
    {
     "data": {
      "text/plain": [
       "Index(['A', 'B', 'C', 'D'], dtype='object')"
      ]
     },
     "execution_count": 11,
     "metadata": {},
     "output_type": "execute_result"
    }
   ],
   "source": [
    "df.columns"
   ]
  },
  {
   "cell_type": "code",
   "execution_count": 12,
   "id": "af0fe063",
   "metadata": {},
   "outputs": [
    {
     "data": {
      "text/plain": [
       "array([[-0.06479663,  2.31039749,  0.0521324 , -1.22572764],\n",
       "       [-0.1213913 ,  0.24007206, -1.10962743,  0.16499253],\n",
       "       [ 0.11961896,  0.85087301,  0.725844  ,  0.41119044],\n",
       "       [-0.05843109, -0.51053281,  0.50521882,  0.0248696 ],\n",
       "       [ 0.14441006, -0.51498533, -1.19279708,  0.17563585],\n",
       "       [ 0.07487337,  1.47772543, -0.04269145,  0.75956229]])"
      ]
     },
     "execution_count": 12,
     "metadata": {},
     "output_type": "execute_result"
    }
   ],
   "source": [
    "df.values"
   ]
  },
  {
   "cell_type": "code",
   "execution_count": 13,
   "id": "4ee28f20",
   "metadata": {},
   "outputs": [
    {
     "data": {
      "text/html": [
       "<div>\n",
       "<style scoped>\n",
       "    .dataframe tbody tr th:only-of-type {\n",
       "        vertical-align: middle;\n",
       "    }\n",
       "\n",
       "    .dataframe tbody tr th {\n",
       "        vertical-align: top;\n",
       "    }\n",
       "\n",
       "    .dataframe thead th {\n",
       "        text-align: right;\n",
       "    }\n",
       "</style>\n",
       "<table border=\"1\" class=\"dataframe\">\n",
       "  <thead>\n",
       "    <tr style=\"text-align: right;\">\n",
       "      <th></th>\n",
       "      <th>A</th>\n",
       "      <th>B</th>\n",
       "      <th>C</th>\n",
       "      <th>D</th>\n",
       "    </tr>\n",
       "  </thead>\n",
       "  <tbody>\n",
       "    <tr>\n",
       "      <th>count</th>\n",
       "      <td>6.000000</td>\n",
       "      <td>6.000000</td>\n",
       "      <td>6.000000</td>\n",
       "      <td>6.000000</td>\n",
       "    </tr>\n",
       "    <tr>\n",
       "      <th>mean</th>\n",
       "      <td>0.015714</td>\n",
       "      <td>0.642258</td>\n",
       "      <td>-0.176987</td>\n",
       "      <td>0.051754</td>\n",
       "    </tr>\n",
       "    <tr>\n",
       "      <th>std</th>\n",
       "      <td>0.111028</td>\n",
       "      <td>1.127307</td>\n",
       "      <td>0.806564</td>\n",
       "      <td>0.676910</td>\n",
       "    </tr>\n",
       "    <tr>\n",
       "      <th>min</th>\n",
       "      <td>-0.121391</td>\n",
       "      <td>-0.514985</td>\n",
       "      <td>-1.192797</td>\n",
       "      <td>-1.225728</td>\n",
       "    </tr>\n",
       "    <tr>\n",
       "      <th>25%</th>\n",
       "      <td>-0.063205</td>\n",
       "      <td>-0.322882</td>\n",
       "      <td>-0.842893</td>\n",
       "      <td>0.059900</td>\n",
       "    </tr>\n",
       "    <tr>\n",
       "      <th>50%</th>\n",
       "      <td>0.008221</td>\n",
       "      <td>0.545473</td>\n",
       "      <td>0.004720</td>\n",
       "      <td>0.170314</td>\n",
       "    </tr>\n",
       "    <tr>\n",
       "      <th>75%</th>\n",
       "      <td>0.108433</td>\n",
       "      <td>1.321012</td>\n",
       "      <td>0.391947</td>\n",
       "      <td>0.352302</td>\n",
       "    </tr>\n",
       "    <tr>\n",
       "      <th>max</th>\n",
       "      <td>0.144410</td>\n",
       "      <td>2.310397</td>\n",
       "      <td>0.725844</td>\n",
       "      <td>0.759562</td>\n",
       "    </tr>\n",
       "  </tbody>\n",
       "</table>\n",
       "</div>"
      ],
      "text/plain": [
       "              A         B         C         D\n",
       "count  6.000000  6.000000  6.000000  6.000000\n",
       "mean   0.015714  0.642258 -0.176987  0.051754\n",
       "std    0.111028  1.127307  0.806564  0.676910\n",
       "min   -0.121391 -0.514985 -1.192797 -1.225728\n",
       "25%   -0.063205 -0.322882 -0.842893  0.059900\n",
       "50%    0.008221  0.545473  0.004720  0.170314\n",
       "75%    0.108433  1.321012  0.391947  0.352302\n",
       "max    0.144410  2.310397  0.725844  0.759562"
      ]
     },
     "execution_count": 13,
     "metadata": {},
     "output_type": "execute_result"
    }
   ],
   "source": [
    "df.describe()"
   ]
  },
  {
   "cell_type": "code",
   "execution_count": 14,
   "id": "0be00f43",
   "metadata": {},
   "outputs": [
    {
     "data": {
      "text/html": [
       "<div>\n",
       "<style scoped>\n",
       "    .dataframe tbody tr th:only-of-type {\n",
       "        vertical-align: middle;\n",
       "    }\n",
       "\n",
       "    .dataframe tbody tr th {\n",
       "        vertical-align: top;\n",
       "    }\n",
       "\n",
       "    .dataframe thead th {\n",
       "        text-align: right;\n",
       "    }\n",
       "</style>\n",
       "<table border=\"1\" class=\"dataframe\">\n",
       "  <thead>\n",
       "    <tr style=\"text-align: right;\">\n",
       "      <th></th>\n",
       "      <th>2021-07-27</th>\n",
       "      <th>2021-07-28</th>\n",
       "      <th>2021-07-29</th>\n",
       "      <th>2021-07-30</th>\n",
       "      <th>2021-07-31</th>\n",
       "      <th>2021-08-01</th>\n",
       "    </tr>\n",
       "  </thead>\n",
       "  <tbody>\n",
       "    <tr>\n",
       "      <th>A</th>\n",
       "      <td>-0.064797</td>\n",
       "      <td>-0.121391</td>\n",
       "      <td>0.119619</td>\n",
       "      <td>-0.058431</td>\n",
       "      <td>0.144410</td>\n",
       "      <td>0.074873</td>\n",
       "    </tr>\n",
       "    <tr>\n",
       "      <th>B</th>\n",
       "      <td>2.310397</td>\n",
       "      <td>0.240072</td>\n",
       "      <td>0.850873</td>\n",
       "      <td>-0.510533</td>\n",
       "      <td>-0.514985</td>\n",
       "      <td>1.477725</td>\n",
       "    </tr>\n",
       "    <tr>\n",
       "      <th>C</th>\n",
       "      <td>0.052132</td>\n",
       "      <td>-1.109627</td>\n",
       "      <td>0.725844</td>\n",
       "      <td>0.505219</td>\n",
       "      <td>-1.192797</td>\n",
       "      <td>-0.042691</td>\n",
       "    </tr>\n",
       "    <tr>\n",
       "      <th>D</th>\n",
       "      <td>-1.225728</td>\n",
       "      <td>0.164993</td>\n",
       "      <td>0.411190</td>\n",
       "      <td>0.024870</td>\n",
       "      <td>0.175636</td>\n",
       "      <td>0.759562</td>\n",
       "    </tr>\n",
       "  </tbody>\n",
       "</table>\n",
       "</div>"
      ],
      "text/plain": [
       "   2021-07-27  2021-07-28  2021-07-29  2021-07-30  2021-07-31  2021-08-01\n",
       "A   -0.064797   -0.121391    0.119619   -0.058431    0.144410    0.074873\n",
       "B    2.310397    0.240072    0.850873   -0.510533   -0.514985    1.477725\n",
       "C    0.052132   -1.109627    0.725844    0.505219   -1.192797   -0.042691\n",
       "D   -1.225728    0.164993    0.411190    0.024870    0.175636    0.759562"
      ]
     },
     "execution_count": 14,
     "metadata": {},
     "output_type": "execute_result"
    }
   ],
   "source": [
    "df.T"
   ]
  },
  {
   "cell_type": "code",
   "execution_count": 15,
   "id": "b51f47a6",
   "metadata": {},
   "outputs": [
    {
     "data": {
      "text/html": [
       "<div>\n",
       "<style scoped>\n",
       "    .dataframe tbody tr th:only-of-type {\n",
       "        vertical-align: middle;\n",
       "    }\n",
       "\n",
       "    .dataframe tbody tr th {\n",
       "        vertical-align: top;\n",
       "    }\n",
       "\n",
       "    .dataframe thead th {\n",
       "        text-align: right;\n",
       "    }\n",
       "</style>\n",
       "<table border=\"1\" class=\"dataframe\">\n",
       "  <thead>\n",
       "    <tr style=\"text-align: right;\">\n",
       "      <th></th>\n",
       "      <th>A</th>\n",
       "      <th>B</th>\n",
       "      <th>C</th>\n",
       "      <th>D</th>\n",
       "    </tr>\n",
       "  </thead>\n",
       "  <tbody>\n",
       "    <tr>\n",
       "      <th>2021-07-28</th>\n",
       "      <td>-0.121391</td>\n",
       "      <td>0.240072</td>\n",
       "      <td>-1.109627</td>\n",
       "      <td>0.164993</td>\n",
       "    </tr>\n",
       "    <tr>\n",
       "      <th>2021-07-27</th>\n",
       "      <td>-0.064797</td>\n",
       "      <td>2.310397</td>\n",
       "      <td>0.052132</td>\n",
       "      <td>-1.225728</td>\n",
       "    </tr>\n",
       "    <tr>\n",
       "      <th>2021-07-30</th>\n",
       "      <td>-0.058431</td>\n",
       "      <td>-0.510533</td>\n",
       "      <td>0.505219</td>\n",
       "      <td>0.024870</td>\n",
       "    </tr>\n",
       "    <tr>\n",
       "      <th>2021-08-01</th>\n",
       "      <td>0.074873</td>\n",
       "      <td>1.477725</td>\n",
       "      <td>-0.042691</td>\n",
       "      <td>0.759562</td>\n",
       "    </tr>\n",
       "    <tr>\n",
       "      <th>2021-07-29</th>\n",
       "      <td>0.119619</td>\n",
       "      <td>0.850873</td>\n",
       "      <td>0.725844</td>\n",
       "      <td>0.411190</td>\n",
       "    </tr>\n",
       "    <tr>\n",
       "      <th>2021-07-31</th>\n",
       "      <td>0.144410</td>\n",
       "      <td>-0.514985</td>\n",
       "      <td>-1.192797</td>\n",
       "      <td>0.175636</td>\n",
       "    </tr>\n",
       "  </tbody>\n",
       "</table>\n",
       "</div>"
      ],
      "text/plain": [
       "                   A         B         C         D\n",
       "2021-07-28 -0.121391  0.240072 -1.109627  0.164993\n",
       "2021-07-27 -0.064797  2.310397  0.052132 -1.225728\n",
       "2021-07-30 -0.058431 -0.510533  0.505219  0.024870\n",
       "2021-08-01  0.074873  1.477725 -0.042691  0.759562\n",
       "2021-07-29  0.119619  0.850873  0.725844  0.411190\n",
       "2021-07-31  0.144410 -0.514985 -1.192797  0.175636"
      ]
     },
     "execution_count": 15,
     "metadata": {},
     "output_type": "execute_result"
    }
   ],
   "source": [
    "df.sort_values(by='A')"
   ]
  },
  {
   "cell_type": "code",
   "execution_count": 16,
   "id": "3582ce25",
   "metadata": {},
   "outputs": [
    {
     "data": {
      "text/plain": [
       "A   -0.121391\n",
       "B    0.240072\n",
       "C   -1.109627\n",
       "D    0.164993\n",
       "Name: 2021-07-28 00:00:00, dtype: float64"
      ]
     },
     "execution_count": 16,
     "metadata": {},
     "output_type": "execute_result"
    }
   ],
   "source": [
    "df.loc['20210728']"
   ]
  },
  {
   "cell_type": "code",
   "execution_count": 17,
   "id": "c95089f9",
   "metadata": {},
   "outputs": [
    {
     "data": {
      "text/html": [
       "<div>\n",
       "<style scoped>\n",
       "    .dataframe tbody tr th:only-of-type {\n",
       "        vertical-align: middle;\n",
       "    }\n",
       "\n",
       "    .dataframe tbody tr th {\n",
       "        vertical-align: top;\n",
       "    }\n",
       "\n",
       "    .dataframe thead th {\n",
       "        text-align: right;\n",
       "    }\n",
       "</style>\n",
       "<table border=\"1\" class=\"dataframe\">\n",
       "  <thead>\n",
       "    <tr style=\"text-align: right;\">\n",
       "      <th></th>\n",
       "      <th>A</th>\n",
       "      <th>D</th>\n",
       "    </tr>\n",
       "  </thead>\n",
       "  <tbody>\n",
       "    <tr>\n",
       "      <th>2021-07-28</th>\n",
       "      <td>-0.121391</td>\n",
       "      <td>0.164993</td>\n",
       "    </tr>\n",
       "    <tr>\n",
       "      <th>2021-07-29</th>\n",
       "      <td>0.119619</td>\n",
       "      <td>0.411190</td>\n",
       "    </tr>\n",
       "  </tbody>\n",
       "</table>\n",
       "</div>"
      ],
      "text/plain": [
       "                   A         D\n",
       "2021-07-28 -0.121391  0.164993\n",
       "2021-07-29  0.119619  0.411190"
      ]
     },
     "execution_count": 17,
     "metadata": {},
     "output_type": "execute_result"
    }
   ],
   "source": [
    "df.loc['20210728':'20210729', ['A', 'D']]"
   ]
  },
  {
   "cell_type": "code",
   "execution_count": 18,
   "id": "4152e29d",
   "metadata": {},
   "outputs": [
    {
     "data": {
      "text/html": [
       "<div>\n",
       "<style scoped>\n",
       "    .dataframe tbody tr th:only-of-type {\n",
       "        vertical-align: middle;\n",
       "    }\n",
       "\n",
       "    .dataframe tbody tr th {\n",
       "        vertical-align: top;\n",
       "    }\n",
       "\n",
       "    .dataframe thead th {\n",
       "        text-align: right;\n",
       "    }\n",
       "</style>\n",
       "<table border=\"1\" class=\"dataframe\">\n",
       "  <thead>\n",
       "    <tr style=\"text-align: right;\">\n",
       "      <th></th>\n",
       "      <th>A</th>\n",
       "      <th>B</th>\n",
       "      <th>C</th>\n",
       "      <th>D</th>\n",
       "    </tr>\n",
       "  </thead>\n",
       "  <tbody>\n",
       "    <tr>\n",
       "      <th>2021-07-27</th>\n",
       "      <td>NaN</td>\n",
       "      <td>2.310397</td>\n",
       "      <td>0.052132</td>\n",
       "      <td>NaN</td>\n",
       "    </tr>\n",
       "    <tr>\n",
       "      <th>2021-07-28</th>\n",
       "      <td>NaN</td>\n",
       "      <td>0.240072</td>\n",
       "      <td>NaN</td>\n",
       "      <td>0.164993</td>\n",
       "    </tr>\n",
       "    <tr>\n",
       "      <th>2021-07-29</th>\n",
       "      <td>0.119619</td>\n",
       "      <td>0.850873</td>\n",
       "      <td>0.725844</td>\n",
       "      <td>0.411190</td>\n",
       "    </tr>\n",
       "    <tr>\n",
       "      <th>2021-07-30</th>\n",
       "      <td>NaN</td>\n",
       "      <td>NaN</td>\n",
       "      <td>0.505219</td>\n",
       "      <td>0.024870</td>\n",
       "    </tr>\n",
       "    <tr>\n",
       "      <th>2021-07-31</th>\n",
       "      <td>0.144410</td>\n",
       "      <td>NaN</td>\n",
       "      <td>NaN</td>\n",
       "      <td>0.175636</td>\n",
       "    </tr>\n",
       "    <tr>\n",
       "      <th>2021-08-01</th>\n",
       "      <td>0.074873</td>\n",
       "      <td>1.477725</td>\n",
       "      <td>NaN</td>\n",
       "      <td>0.759562</td>\n",
       "    </tr>\n",
       "  </tbody>\n",
       "</table>\n",
       "</div>"
      ],
      "text/plain": [
       "                   A         B         C         D\n",
       "2021-07-27       NaN  2.310397  0.052132       NaN\n",
       "2021-07-28       NaN  0.240072       NaN  0.164993\n",
       "2021-07-29  0.119619  0.850873  0.725844  0.411190\n",
       "2021-07-30       NaN       NaN  0.505219  0.024870\n",
       "2021-07-31  0.144410       NaN       NaN  0.175636\n",
       "2021-08-01  0.074873  1.477725       NaN  0.759562"
      ]
     },
     "execution_count": 18,
     "metadata": {},
     "output_type": "execute_result"
    }
   ],
   "source": [
    "df[df > 0]"
   ]
  },
  {
   "cell_type": "code",
   "execution_count": 21,
   "id": "f4c0cc47",
   "metadata": {},
   "outputs": [
    {
     "data": {
      "text/html": [
       "<div>\n",
       "<style scoped>\n",
       "    .dataframe tbody tr th:only-of-type {\n",
       "        vertical-align: middle;\n",
       "    }\n",
       "\n",
       "    .dataframe tbody tr th {\n",
       "        vertical-align: top;\n",
       "    }\n",
       "\n",
       "    .dataframe thead th {\n",
       "        text-align: right;\n",
       "    }\n",
       "</style>\n",
       "<table border=\"1\" class=\"dataframe\">\n",
       "  <thead>\n",
       "    <tr style=\"text-align: right;\">\n",
       "      <th></th>\n",
       "      <th>A</th>\n",
       "      <th>B</th>\n",
       "      <th>C</th>\n",
       "      <th>D</th>\n",
       "      <th>E</th>\n",
       "    </tr>\n",
       "  </thead>\n",
       "  <tbody>\n",
       "    <tr>\n",
       "      <th>2021-07-27</th>\n",
       "      <td>-0.064797</td>\n",
       "      <td>2.310397</td>\n",
       "      <td>0.052132</td>\n",
       "      <td>-1.225728</td>\n",
       "      <td>one</td>\n",
       "    </tr>\n",
       "    <tr>\n",
       "      <th>2021-07-28</th>\n",
       "      <td>-0.121391</td>\n",
       "      <td>0.240072</td>\n",
       "      <td>-1.109627</td>\n",
       "      <td>0.164993</td>\n",
       "      <td>two</td>\n",
       "    </tr>\n",
       "    <tr>\n",
       "      <th>2021-07-29</th>\n",
       "      <td>0.119619</td>\n",
       "      <td>0.850873</td>\n",
       "      <td>0.725844</td>\n",
       "      <td>0.411190</td>\n",
       "      <td>three</td>\n",
       "    </tr>\n",
       "    <tr>\n",
       "      <th>2021-07-30</th>\n",
       "      <td>-0.058431</td>\n",
       "      <td>-0.510533</td>\n",
       "      <td>0.505219</td>\n",
       "      <td>0.024870</td>\n",
       "      <td>four</td>\n",
       "    </tr>\n",
       "    <tr>\n",
       "      <th>2021-07-31</th>\n",
       "      <td>0.144410</td>\n",
       "      <td>-0.514985</td>\n",
       "      <td>-1.192797</td>\n",
       "      <td>0.175636</td>\n",
       "      <td>five</td>\n",
       "    </tr>\n",
       "    <tr>\n",
       "      <th>2021-08-01</th>\n",
       "      <td>0.074873</td>\n",
       "      <td>1.477725</td>\n",
       "      <td>-0.042691</td>\n",
       "      <td>0.759562</td>\n",
       "      <td>six</td>\n",
       "    </tr>\n",
       "  </tbody>\n",
       "</table>\n",
       "</div>"
      ],
      "text/plain": [
       "                   A         B         C         D      E\n",
       "2021-07-27 -0.064797  2.310397  0.052132 -1.225728    one\n",
       "2021-07-28 -0.121391  0.240072 -1.109627  0.164993    two\n",
       "2021-07-29  0.119619  0.850873  0.725844  0.411190  three\n",
       "2021-07-30 -0.058431 -0.510533  0.505219  0.024870   four\n",
       "2021-07-31  0.144410 -0.514985 -1.192797  0.175636   five\n",
       "2021-08-01  0.074873  1.477725 -0.042691  0.759562    six"
      ]
     },
     "execution_count": 21,
     "metadata": {},
     "output_type": "execute_result"
    }
   ],
   "source": [
    "df2 = df.copy()\n",
    "df['E'] = ['one', 'two', 'three', 'four', 'five', 'six']\n",
    "df2"
   ]
  },
  {
   "cell_type": "code",
   "execution_count": 22,
   "id": "f0c8f7d8",
   "metadata": {},
   "outputs": [
    {
     "data": {
      "text/html": [
       "<div>\n",
       "<style scoped>\n",
       "    .dataframe tbody tr th:only-of-type {\n",
       "        vertical-align: middle;\n",
       "    }\n",
       "\n",
       "    .dataframe tbody tr th {\n",
       "        vertical-align: top;\n",
       "    }\n",
       "\n",
       "    .dataframe thead th {\n",
       "        text-align: right;\n",
       "    }\n",
       "</style>\n",
       "<table border=\"1\" class=\"dataframe\">\n",
       "  <thead>\n",
       "    <tr style=\"text-align: right;\">\n",
       "      <th></th>\n",
       "      <th>A</th>\n",
       "      <th>B</th>\n",
       "      <th>C</th>\n",
       "      <th>D</th>\n",
       "      <th>E</th>\n",
       "    </tr>\n",
       "  </thead>\n",
       "  <tbody>\n",
       "    <tr>\n",
       "      <th>2021-07-27</th>\n",
       "      <td>-0.064797</td>\n",
       "      <td>2.310397</td>\n",
       "      <td>0.052132</td>\n",
       "      <td>-1.225728</td>\n",
       "      <td>one</td>\n",
       "    </tr>\n",
       "    <tr>\n",
       "      <th>2021-08-01</th>\n",
       "      <td>0.074873</td>\n",
       "      <td>1.477725</td>\n",
       "      <td>-0.042691</td>\n",
       "      <td>0.759562</td>\n",
       "      <td>six</td>\n",
       "    </tr>\n",
       "  </tbody>\n",
       "</table>\n",
       "</div>"
      ],
      "text/plain": [
       "                   A         B         C         D    E\n",
       "2021-07-27 -0.064797  2.310397  0.052132 -1.225728  one\n",
       "2021-08-01  0.074873  1.477725 -0.042691  0.759562  six"
      ]
     },
     "execution_count": 22,
     "metadata": {},
     "output_type": "execute_result"
    }
   ],
   "source": [
    "df2[df2['E'].isin(['one', 'six'])]"
   ]
  },
  {
   "cell_type": "code",
   "execution_count": 25,
   "id": "dc7a594f",
   "metadata": {},
   "outputs": [],
   "source": [
    "s = pd.Series([1, 2, 3, 4, 5, 6], index=pd.date_range('20210727', periods=6))"
   ]
  },
  {
   "cell_type": "code",
   "execution_count": 26,
   "id": "4db9be6f",
   "metadata": {},
   "outputs": [
    {
     "data": {
      "text/plain": [
       "2021-07-27    1\n",
       "2021-07-28    2\n",
       "2021-07-29    3\n",
       "2021-07-30    4\n",
       "2021-07-31    5\n",
       "2021-08-01    6\n",
       "Freq: D, dtype: int64"
      ]
     },
     "execution_count": 26,
     "metadata": {},
     "output_type": "execute_result"
    }
   ],
   "source": [
    "s"
   ]
  },
  {
   "cell_type": "code",
   "execution_count": 27,
   "id": "0fb5f1a8",
   "metadata": {},
   "outputs": [],
   "source": [
    "df['E'] = s"
   ]
  },
  {
   "cell_type": "code",
   "execution_count": 36,
   "id": "7cb0407b",
   "metadata": {},
   "outputs": [
    {
     "data": {
      "text/html": [
       "<div>\n",
       "<style scoped>\n",
       "    .dataframe tbody tr th:only-of-type {\n",
       "        vertical-align: middle;\n",
       "    }\n",
       "\n",
       "    .dataframe tbody tr th {\n",
       "        vertical-align: top;\n",
       "    }\n",
       "\n",
       "    .dataframe thead th {\n",
       "        text-align: right;\n",
       "    }\n",
       "</style>\n",
       "<table border=\"1\" class=\"dataframe\">\n",
       "  <thead>\n",
       "    <tr style=\"text-align: right;\">\n",
       "      <th></th>\n",
       "      <th>A</th>\n",
       "      <th>B</th>\n",
       "      <th>C</th>\n",
       "      <th>D</th>\n",
       "      <th>E</th>\n",
       "    </tr>\n",
       "  </thead>\n",
       "  <tbody>\n",
       "    <tr>\n",
       "      <th>2021-07-27</th>\n",
       "      <td>-0.064797</td>\n",
       "      <td>2.310397</td>\n",
       "      <td>0.052132</td>\n",
       "      <td>-1.225728</td>\n",
       "      <td>1</td>\n",
       "    </tr>\n",
       "    <tr>\n",
       "      <th>2021-07-28</th>\n",
       "      <td>2.000000</td>\n",
       "      <td>0.240072</td>\n",
       "      <td>-1.109627</td>\n",
       "      <td>0.164993</td>\n",
       "      <td>2</td>\n",
       "    </tr>\n",
       "    <tr>\n",
       "      <th>2021-07-29</th>\n",
       "      <td>0.119619</td>\n",
       "      <td>0.850873</td>\n",
       "      <td>0.725844</td>\n",
       "      <td>0.411190</td>\n",
       "      <td>3</td>\n",
       "    </tr>\n",
       "    <tr>\n",
       "      <th>2021-07-30</th>\n",
       "      <td>-0.058431</td>\n",
       "      <td>-0.510533</td>\n",
       "      <td>0.505219</td>\n",
       "      <td>0.024870</td>\n",
       "      <td>4</td>\n",
       "    </tr>\n",
       "    <tr>\n",
       "      <th>2021-07-31</th>\n",
       "      <td>0.144410</td>\n",
       "      <td>-0.514985</td>\n",
       "      <td>-1.192797</td>\n",
       "      <td>0.175636</td>\n",
       "      <td>5</td>\n",
       "    </tr>\n",
       "    <tr>\n",
       "      <th>2021-08-01</th>\n",
       "      <td>0.074873</td>\n",
       "      <td>1.477725</td>\n",
       "      <td>-0.042691</td>\n",
       "      <td>0.759562</td>\n",
       "      <td>6</td>\n",
       "    </tr>\n",
       "  </tbody>\n",
       "</table>\n",
       "</div>"
      ],
      "text/plain": [
       "                   A         B         C         D  E\n",
       "2021-07-27 -0.064797  2.310397  0.052132 -1.225728  1\n",
       "2021-07-28  2.000000  0.240072 -1.109627  0.164993  2\n",
       "2021-07-29  0.119619  0.850873  0.725844  0.411190  3\n",
       "2021-07-30 -0.058431 -0.510533  0.505219  0.024870  4\n",
       "2021-07-31  0.144410 -0.514985 -1.192797  0.175636  5\n",
       "2021-08-01  0.074873  1.477725 -0.042691  0.759562  6"
      ]
     },
     "execution_count": 36,
     "metadata": {},
     "output_type": "execute_result"
    }
   ],
   "source": [
    "df"
   ]
  },
  {
   "cell_type": "code",
   "execution_count": 41,
   "id": "77ad3d16",
   "metadata": {},
   "outputs": [
    {
     "name": "stdout",
     "output_type": "stream",
     "text": [
      "          0         1\n",
      "0  0.599766  1.456788\n",
      "1  0.244921 -0.845158\n",
      "          0         1\n",
      "0  0.192898 -0.522135\n",
      "1  0.210687  0.799466\n"
     ]
    }
   ],
   "source": [
    "df = pd.DataFrame(np.random.randn(2, 2))\n",
    "df3 =  pd.DataFrame(np.random.randn(2, 2))\n",
    "print(df)\n",
    "print(df3)"
   ]
  },
  {
   "cell_type": "code",
   "execution_count": 42,
   "id": "63c2d592",
   "metadata": {},
   "outputs": [
    {
     "data": {
      "text/html": [
       "<div>\n",
       "<style scoped>\n",
       "    .dataframe tbody tr th:only-of-type {\n",
       "        vertical-align: middle;\n",
       "    }\n",
       "\n",
       "    .dataframe tbody tr th {\n",
       "        vertical-align: top;\n",
       "    }\n",
       "\n",
       "    .dataframe thead th {\n",
       "        text-align: right;\n",
       "    }\n",
       "</style>\n",
       "<table border=\"1\" class=\"dataframe\">\n",
       "  <thead>\n",
       "    <tr style=\"text-align: right;\">\n",
       "      <th></th>\n",
       "      <th>0</th>\n",
       "      <th>1</th>\n",
       "    </tr>\n",
       "  </thead>\n",
       "  <tbody>\n",
       "    <tr>\n",
       "      <th>0</th>\n",
       "      <td>0.599766</td>\n",
       "      <td>1.456788</td>\n",
       "    </tr>\n",
       "    <tr>\n",
       "      <th>1</th>\n",
       "      <td>0.244921</td>\n",
       "      <td>-0.845158</td>\n",
       "    </tr>\n",
       "    <tr>\n",
       "      <th>0</th>\n",
       "      <td>0.192898</td>\n",
       "      <td>-0.522135</td>\n",
       "    </tr>\n",
       "    <tr>\n",
       "      <th>1</th>\n",
       "      <td>0.210687</td>\n",
       "      <td>0.799466</td>\n",
       "    </tr>\n",
       "  </tbody>\n",
       "</table>\n",
       "</div>"
      ],
      "text/plain": [
       "          0         1\n",
       "0  0.599766  1.456788\n",
       "1  0.244921 -0.845158\n",
       "0  0.192898 -0.522135\n",
       "1  0.210687  0.799466"
      ]
     },
     "execution_count": 42,
     "metadata": {},
     "output_type": "execute_result"
    }
   ],
   "source": [
    "pd.concat([df, df3])"
   ]
  },
  {
   "cell_type": "code",
   "execution_count": 51,
   "id": "8a836298",
   "metadata": {},
   "outputs": [
    {
     "data": {
      "text/html": [
       "<div>\n",
       "<style scoped>\n",
       "    .dataframe tbody tr th:only-of-type {\n",
       "        vertical-align: middle;\n",
       "    }\n",
       "\n",
       "    .dataframe tbody tr th {\n",
       "        vertical-align: top;\n",
       "    }\n",
       "\n",
       "    .dataframe thead th {\n",
       "        text-align: right;\n",
       "    }\n",
       "</style>\n",
       "<table border=\"1\" class=\"dataframe\">\n",
       "  <thead>\n",
       "    <tr style=\"text-align: right;\">\n",
       "      <th></th>\n",
       "      <th>0</th>\n",
       "      <th>1</th>\n",
       "    </tr>\n",
       "  </thead>\n",
       "  <tbody>\n",
       "    <tr>\n",
       "      <th>0</th>\n",
       "      <td>0.599766</td>\n",
       "      <td>1.456788</td>\n",
       "    </tr>\n",
       "    <tr>\n",
       "      <th>1</th>\n",
       "      <td>0.244921</td>\n",
       "      <td>-0.845158</td>\n",
       "    </tr>\n",
       "    <tr>\n",
       "      <th>2</th>\n",
       "      <td>0.192898</td>\n",
       "      <td>-0.522135</td>\n",
       "    </tr>\n",
       "    <tr>\n",
       "      <th>3</th>\n",
       "      <td>0.210687</td>\n",
       "      <td>0.799466</td>\n",
       "    </tr>\n",
       "    <tr>\n",
       "      <th>4</th>\n",
       "      <td>0.599766</td>\n",
       "      <td>1.456788</td>\n",
       "    </tr>\n",
       "  </tbody>\n",
       "</table>\n",
       "</div>"
      ],
      "text/plain": [
       "          0         1\n",
       "0  0.599766  1.456788\n",
       "1  0.244921 -0.845158\n",
       "2  0.192898 -0.522135\n",
       "3  0.210687  0.799466\n",
       "4  0.599766  1.456788"
      ]
     },
     "execution_count": 51,
     "metadata": {},
     "output_type": "execute_result"
    }
   ],
   "source": [
    "s = df.iloc[0]\n",
    "pd.concat([df, df3]).append(s, ignore_index=True)"
   ]
  },
  {
   "cell_type": "code",
   "execution_count": 53,
   "id": "62e46789",
   "metadata": {},
   "outputs": [
    {
     "data": {
      "text/html": [
       "<div>\n",
       "<style scoped>\n",
       "    .dataframe tbody tr th:only-of-type {\n",
       "        vertical-align: middle;\n",
       "    }\n",
       "\n",
       "    .dataframe tbody tr th {\n",
       "        vertical-align: top;\n",
       "    }\n",
       "\n",
       "    .dataframe thead th {\n",
       "        text-align: right;\n",
       "    }\n",
       "</style>\n",
       "<table border=\"1\" class=\"dataframe\">\n",
       "  <thead>\n",
       "    <tr style=\"text-align: right;\">\n",
       "      <th></th>\n",
       "      <th>A</th>\n",
       "      <th>B</th>\n",
       "    </tr>\n",
       "  </thead>\n",
       "  <tbody>\n",
       "    <tr>\n",
       "      <th>0</th>\n",
       "      <td>foo</td>\n",
       "      <td>0.333388</td>\n",
       "    </tr>\n",
       "    <tr>\n",
       "      <th>1</th>\n",
       "      <td>bar</td>\n",
       "      <td>1.355694</td>\n",
       "    </tr>\n",
       "    <tr>\n",
       "      <th>2</th>\n",
       "      <td>foo</td>\n",
       "      <td>0.267710</td>\n",
       "    </tr>\n",
       "    <tr>\n",
       "      <th>3</th>\n",
       "      <td>bar</td>\n",
       "      <td>0.943156</td>\n",
       "    </tr>\n",
       "  </tbody>\n",
       "</table>\n",
       "</div>"
      ],
      "text/plain": [
       "     A         B\n",
       "0  foo  0.333388\n",
       "1  bar  1.355694\n",
       "2  foo  0.267710\n",
       "3  bar  0.943156"
      ]
     },
     "execution_count": 53,
     "metadata": {},
     "output_type": "execute_result"
    }
   ],
   "source": [
    "df = pd.DataFrame({'A': ['foo', 'bar', 'foo', 'bar'], 'B': np.random.randn(4)})\n",
    "df"
   ]
  },
  {
   "cell_type": "code",
   "execution_count": 55,
   "id": "a692ad72",
   "metadata": {},
   "outputs": [
    {
     "data": {
      "text/html": [
       "<div>\n",
       "<style scoped>\n",
       "    .dataframe tbody tr th:only-of-type {\n",
       "        vertical-align: middle;\n",
       "    }\n",
       "\n",
       "    .dataframe tbody tr th {\n",
       "        vertical-align: top;\n",
       "    }\n",
       "\n",
       "    .dataframe thead th {\n",
       "        text-align: right;\n",
       "    }\n",
       "</style>\n",
       "<table border=\"1\" class=\"dataframe\">\n",
       "  <thead>\n",
       "    <tr style=\"text-align: right;\">\n",
       "      <th></th>\n",
       "      <th>B</th>\n",
       "    </tr>\n",
       "    <tr>\n",
       "      <th>A</th>\n",
       "      <th></th>\n",
       "    </tr>\n",
       "  </thead>\n",
       "  <tbody>\n",
       "    <tr>\n",
       "      <th>bar</th>\n",
       "      <td>2.298850</td>\n",
       "    </tr>\n",
       "    <tr>\n",
       "      <th>foo</th>\n",
       "      <td>0.601098</td>\n",
       "    </tr>\n",
       "  </tbody>\n",
       "</table>\n",
       "</div>"
      ],
      "text/plain": [
       "            B\n",
       "A            \n",
       "bar  2.298850\n",
       "foo  0.601098"
      ]
     },
     "execution_count": 55,
     "metadata": {},
     "output_type": "execute_result"
    }
   ],
   "source": [
    "df.groupby('A').sum()"
   ]
  },
  {
   "cell_type": "code",
   "execution_count": 56,
   "id": "af16bbe4",
   "metadata": {},
   "outputs": [],
   "source": [
    "import pandas_datareader"
   ]
  },
  {
   "cell_type": "code",
   "execution_count": 59,
   "id": "5f98a36e",
   "metadata": {},
   "outputs": [
    {
     "data": {
      "text/html": [
       "<div>\n",
       "<style scoped>\n",
       "    .dataframe tbody tr th:only-of-type {\n",
       "        vertical-align: middle;\n",
       "    }\n",
       "\n",
       "    .dataframe tbody tr th {\n",
       "        vertical-align: top;\n",
       "    }\n",
       "\n",
       "    .dataframe thead th {\n",
       "        text-align: right;\n",
       "    }\n",
       "</style>\n",
       "<table border=\"1\" class=\"dataframe\">\n",
       "  <thead>\n",
       "    <tr style=\"text-align: right;\">\n",
       "      <th></th>\n",
       "      <th>High</th>\n",
       "      <th>Low</th>\n",
       "      <th>Open</th>\n",
       "      <th>Close</th>\n",
       "      <th>Volume</th>\n",
       "      <th>Adj Close</th>\n",
       "    </tr>\n",
       "    <tr>\n",
       "      <th>Date</th>\n",
       "      <th></th>\n",
       "      <th></th>\n",
       "      <th></th>\n",
       "      <th></th>\n",
       "      <th></th>\n",
       "      <th></th>\n",
       "    </tr>\n",
       "  </thead>\n",
       "  <tbody>\n",
       "    <tr>\n",
       "      <th>2021-07-19</th>\n",
       "      <td>144.070007</td>\n",
       "      <td>141.669998</td>\n",
       "      <td>143.750000</td>\n",
       "      <td>142.449997</td>\n",
       "      <td>121434600</td>\n",
       "      <td>142.449997</td>\n",
       "    </tr>\n",
       "    <tr>\n",
       "      <th>2021-07-20</th>\n",
       "      <td>147.100006</td>\n",
       "      <td>142.960007</td>\n",
       "      <td>143.460007</td>\n",
       "      <td>146.149994</td>\n",
       "      <td>96350000</td>\n",
       "      <td>146.149994</td>\n",
       "    </tr>\n",
       "    <tr>\n",
       "      <th>2021-07-21</th>\n",
       "      <td>146.130005</td>\n",
       "      <td>144.630005</td>\n",
       "      <td>145.529999</td>\n",
       "      <td>145.399994</td>\n",
       "      <td>74993500</td>\n",
       "      <td>145.399994</td>\n",
       "    </tr>\n",
       "    <tr>\n",
       "      <th>2021-07-22</th>\n",
       "      <td>148.199997</td>\n",
       "      <td>145.809998</td>\n",
       "      <td>145.940002</td>\n",
       "      <td>146.800003</td>\n",
       "      <td>77338200</td>\n",
       "      <td>146.800003</td>\n",
       "    </tr>\n",
       "    <tr>\n",
       "      <th>2021-07-23</th>\n",
       "      <td>148.720001</td>\n",
       "      <td>146.919998</td>\n",
       "      <td>147.550003</td>\n",
       "      <td>148.559998</td>\n",
       "      <td>71361600</td>\n",
       "      <td>148.559998</td>\n",
       "    </tr>\n",
       "    <tr>\n",
       "      <th>2021-07-26</th>\n",
       "      <td>149.830002</td>\n",
       "      <td>147.699997</td>\n",
       "      <td>148.270004</td>\n",
       "      <td>148.990005</td>\n",
       "      <td>72434089</td>\n",
       "      <td>148.990005</td>\n",
       "    </tr>\n",
       "  </tbody>\n",
       "</table>\n",
       "</div>"
      ],
      "text/plain": [
       "                  High         Low        Open       Close     Volume  \\\n",
       "Date                                                                    \n",
       "2021-07-19  144.070007  141.669998  143.750000  142.449997  121434600   \n",
       "2021-07-20  147.100006  142.960007  143.460007  146.149994   96350000   \n",
       "2021-07-21  146.130005  144.630005  145.529999  145.399994   74993500   \n",
       "2021-07-22  148.199997  145.809998  145.940002  146.800003   77338200   \n",
       "2021-07-23  148.720001  146.919998  147.550003  148.559998   71361600   \n",
       "2021-07-26  149.830002  147.699997  148.270004  148.990005   72434089   \n",
       "\n",
       "             Adj Close  \n",
       "Date                    \n",
       "2021-07-19  142.449997  \n",
       "2021-07-20  146.149994  \n",
       "2021-07-21  145.399994  \n",
       "2021-07-22  146.800003  \n",
       "2021-07-23  148.559998  \n",
       "2021-07-26  148.990005  "
      ]
     },
     "execution_count": 59,
     "metadata": {},
     "output_type": "execute_result"
    }
   ],
   "source": [
    "s = pandas_datareader.data.DataReader('AAPL', 'yahoo', '2021-07-20')\n",
    "s"
   ]
  },
  {
   "cell_type": "code",
   "execution_count": null,
   "id": "ababdb8f",
   "metadata": {},
   "outputs": [],
   "source": []
  }
 ],
 "metadata": {
  "kernelspec": {
   "display_name": "Python 3.8.8 64-bit ('base': conda)",
   "language": "python",
   "name": "python388jvsc74a57bd0b167257435bc6644d991b1c1a5c421a8608cd3c9699761caa215cc6281d6ba38"
  },
  "language_info": {
   "codemirror_mode": {
    "name": "ipython",
    "version": 3
   },
   "file_extension": ".py",
   "mimetype": "text/x-python",
   "name": "python",
   "nbconvert_exporter": "python",
   "pygments_lexer": "ipython3",
   "version": "3.8.8"
  }
 },
 "nbformat": 4,
 "nbformat_minor": 5
}
