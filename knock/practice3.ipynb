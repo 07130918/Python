{
 "cells": [
  {
   "cell_type": "code",
   "execution_count": 1,
   "id": "efdae195",
   "metadata": {},
   "outputs": [],
   "source": [
    "class Person(object):\n",
    "    def __init__(self, name):\n",
    "        self.__nationality = 'Japan'\n",
    "        self.name = name\n",
    "    \n",
    "    def say_hello(self):\n",
    "        print(f'こんにちは。私の国籍は{self.__nationality}です。')\n",
    "        self.__say_my_name()\n",
    "    \n",
    "    def __say_my_name(self):\n",
    "        print(f'私の名前は{self.name}です。')"
   ]
  },
  {
   "cell_type": "code",
   "execution_count": 2,
   "id": "f14bbfe1",
   "metadata": {
    "scrolled": true
   },
   "outputs": [
    {
     "name": "stdout",
     "output_type": "stream",
     "text": [
      "John\n",
      "こんにちは。私の国籍はJapanです。\n",
      "私の名前はJohnです。\n"
     ]
    }
   ],
   "source": [
    "john = Person(\"John\")\n",
    "print(john.name)\n",
    "john.say_hello()"
   ]
  },
  {
   "cell_type": "code",
   "execution_count": 3,
   "id": "0308e9ae",
   "metadata": {},
   "outputs": [
    {
     "name": "stdout",
     "output_type": "stream",
     "text": [
      "はじめまして\n",
      "こんにちは\n",
      "こんばんは\n",
      "\n"
     ]
    }
   ],
   "source": [
    "with open('sample.txt', 'r') as f:\n",
    "    print(f.read())"
   ]
  },
  {
   "cell_type": "code",
   "execution_count": 4,
   "id": "f7d20641",
   "metadata": {},
   "outputs": [],
   "source": [
    "import json"
   ]
  },
  {
   "cell_type": "code",
   "execution_count": 5,
   "id": "b9b177cb",
   "metadata": {},
   "outputs": [
    {
     "data": {
      "text/plain": [
       "{'store_name': '神田店',\n",
       " 'items': [{'item_id': 0, 'item_name': 'コーラ'},\n",
       "  {'item_id': 1, 'item_name': 'マンガ'}]}"
      ]
     },
     "execution_count": 5,
     "metadata": {},
     "output_type": "execute_result"
    }
   ],
   "source": [
    "with open('sample.json', 'r') as f:\n",
    "    data = json.load(f)\n",
    "data"
   ]
  },
  {
   "cell_type": "code",
   "execution_count": 6,
   "id": "3443a152",
   "metadata": {},
   "outputs": [
    {
     "data": {
      "text/plain": [
       "'コーラ'"
      ]
     },
     "execution_count": 6,
     "metadata": {},
     "output_type": "execute_result"
    }
   ],
   "source": [
    "data['items'][0]['item_name']"
   ]
  },
  {
   "cell_type": "code",
   "execution_count": 7,
   "id": "24876fa6",
   "metadata": {},
   "outputs": [],
   "source": [
    "import os"
   ]
  },
  {
   "cell_type": "code",
   "execution_count": 8,
   "id": "e027de56",
   "metadata": {},
   "outputs": [
    {
     "name": "stdout",
     "output_type": "stream",
     "text": [
      "./sample.json\n",
      "./practice2.ipynb\n",
      "./practice3.ipynb\n",
      "./practice1.ipynb\n",
      "./sample.txt\n",
      "./.ipynb_checkpoints/practice3-checkpoint.ipynb\n",
      "./.ipynb_checkpoints/sample-checkpoint.json\n",
      "./.ipynb_checkpoints/practice2-checkpoint.ipynb\n",
      "./.ipynb_checkpoints/practice1-checkpoint.ipynb\n"
     ]
    }
   ],
   "source": [
    "for curDir, dirs, files in os.walk('.'):\n",
    "    for file in files:\n",
    "        print(f'{curDir}/{file}')"
   ]
  },
  {
   "cell_type": "code",
   "execution_count": 9,
   "id": "007e5ffe",
   "metadata": {},
   "outputs": [
    {
     "data": {
      "text/plain": [
       "['.DS_Store',\n",
       " '.git',\n",
       " 'calculation_memo',\n",
       " 'front-dev-tutorial-master',\n",
       " 'github-git-cheat-sheet.pdf',\n",
       " 'linux_command.pdf',\n",
       " 'port',\n",
       " 'python_programming_demo_app-0.0.1',\n",
       " 'python_training',\n",
       " 'rails_apps',\n",
       " 'ruby_shellscript']"
      ]
     },
     "execution_count": 9,
     "metadata": {},
     "output_type": "execute_result"
    }
   ],
   "source": [
    "lists = os.listdir('../..')\n",
    "lists.sort()\n",
    "lists"
   ]
  },
  {
   "cell_type": "code",
   "execution_count": 10,
   "id": "deb9929c-193e-4f13-8346-93642902d33f",
   "metadata": {},
   "outputs": [
    {
     "data": {
      "text/plain": [
       "'/Users/satokota/Desktop/programming/python_training/knock/practice1.ipynb'"
      ]
     },
     "execution_count": 10,
     "metadata": {},
     "output_type": "execute_result"
    }
   ],
   "source": [
    "os.path.abspath('./practice1.ipynb')"
   ]
  },
  {
   "cell_type": "code",
   "execution_count": 11,
   "id": "c635abc7-af30-4b0c-82f0-799cab83aa02",
   "metadata": {},
   "outputs": [
    {
     "data": {
      "text/plain": [
       "'practice1.ipynb'"
      ]
     },
     "execution_count": 11,
     "metadata": {},
     "output_type": "execute_result"
    }
   ],
   "source": [
    "os.path.basename('./practice1.ipynb')"
   ]
  },
  {
   "cell_type": "code",
   "execution_count": 12,
   "id": "724e63ca-7165-47f9-885a-a23911d5d2d8",
   "metadata": {},
   "outputs": [
    {
     "data": {
      "text/plain": [
       "False"
      ]
     },
     "execution_count": 12,
     "metadata": {},
     "output_type": "execute_result"
    }
   ],
   "source": [
    "os.path.exists('xyz/')"
   ]
  },
  {
   "cell_type": "code",
   "execution_count": 13,
   "id": "59da1133-2d7a-4271-bdd5-32d0e5a3a5ec",
   "metadata": {},
   "outputs": [
    {
     "data": {
      "text/plain": [
       "True"
      ]
     },
     "execution_count": 13,
     "metadata": {},
     "output_type": "execute_result"
    }
   ],
   "source": [
    "os.path.exists('./practice1.ipynb')"
   ]
  },
  {
   "cell_type": "code",
   "execution_count": 14,
   "id": "321fdc9b-94b7-45fc-87eb-639b36d989d1",
   "metadata": {},
   "outputs": [
    {
     "data": {
      "text/plain": [
       "False"
      ]
     },
     "execution_count": 14,
     "metadata": {},
     "output_type": "execute_result"
    }
   ],
   "source": [
    "os.path.isdir('xyz/')"
   ]
  },
  {
   "cell_type": "code",
   "execution_count": 15,
   "id": "c1a8ad6e-af26-4486-a355-38a5db18ef04",
   "metadata": {},
   "outputs": [
    {
     "data": {
      "text/plain": [
       "True"
      ]
     },
     "execution_count": 15,
     "metadata": {},
     "output_type": "execute_result"
    }
   ],
   "source": [
    "os.path.isdir('../knock')"
   ]
  },
  {
   "cell_type": "code",
   "execution_count": 16,
   "id": "8282109d-edd3-4b69-8bc2-ee7925cb7812",
   "metadata": {},
   "outputs": [
    {
     "data": {
      "text/plain": [
       "True"
      ]
     },
     "execution_count": 16,
     "metadata": {},
     "output_type": "execute_result"
    }
   ],
   "source": [
    "os.path.isfile('practice1.ipynb')"
   ]
  },
  {
   "cell_type": "code",
   "execution_count": 17,
   "id": "b39ec361-ace5-4e07-8c34-074fc7527446",
   "metadata": {},
   "outputs": [
    {
     "name": "stdout",
     "output_type": "stream",
     "text": [
      "./sample.json\n",
      "./practice2.ipynb\n",
      "./practice3.ipynb\n",
      "./practice1.ipynb\n",
      "./sample.txt\n",
      "./.ipynb_checkpoints/practice3-checkpoint.ipynb\n",
      "./.ipynb_checkpoints/sample-checkpoint.json\n",
      "./.ipynb_checkpoints/practice2-checkpoint.ipynb\n",
      "./.ipynb_checkpoints/practice1-checkpoint.ipynb\n"
     ]
    }
   ],
   "source": [
    "for curDir, dirs, files in os.walk('.'):\n",
    "    for file in files:\n",
    "        print(os.path.join(curDir, file))"
   ]
  },
  {
   "cell_type": "code",
   "execution_count": 18,
   "id": "69028316-8fde-41cc-b73d-9a6e8a5ede3a",
   "metadata": {},
   "outputs": [],
   "source": [
    "os.mkdir('index')"
   ]
  },
  {
   "cell_type": "code",
   "execution_count": 19,
   "id": "878419ea-7219-4d61-aac4-9b1986a061eb",
   "metadata": {},
   "outputs": [],
   "source": [
    "os.rename('index', 'extreme')"
   ]
  },
  {
   "cell_type": "code",
   "execution_count": 20,
   "id": "c99fd760-9dfa-4ef6-91e3-e8b136bb6728",
   "metadata": {},
   "outputs": [],
   "source": [
    "os.rmdir('extreme')"
   ]
  },
  {
   "cell_type": "code",
   "execution_count": 21,
   "id": "955e6824-0c14-4681-b3a6-ba0a9a089ecb",
   "metadata": {},
   "outputs": [
    {
     "data": {
      "text/plain": [
       "'/Users/satokota/opt/anaconda3/bin:/Users/satokota/opt/anaconda3/condabin:/usr/local/opt/mysql@5.7/bin:/opt/homebrew/opt/openssl@1.1/bin:/opt/homebrew/opt/rbenv/shims:/opt/homebrew/opt/rbenv/bin:/opt/homebrew/sbin:/opt/homebrew/bin:/usr/local/bin:/usr/bin:/bin:/usr/sbin:/sbin:/Library/Apple/usr/bin'"
      ]
     },
     "execution_count": 21,
     "metadata": {},
     "output_type": "execute_result"
    }
   ],
   "source": [
    "os.environ['PATH']"
   ]
  },
  {
   "cell_type": "code",
   "execution_count": 22,
   "id": "d6a28942-49f6-4fca-adca-c042b99695af",
   "metadata": {},
   "outputs": [
    {
     "data": {
      "text/plain": [
       "0"
      ]
     },
     "execution_count": 22,
     "metadata": {},
     "output_type": "execute_result"
    }
   ],
   "source": [
    "# この方法はpythonスクリプトでないと機能しない\n",
    "os.system('ls -l')"
   ]
  },
  {
   "cell_type": "code",
   "execution_count": 23,
   "id": "30fcdfc3-6645-4059-85f3-311d73f86cad",
   "metadata": {},
   "outputs": [
    {
     "name": "stdout",
     "output_type": "stream",
     "text": [
      "total 128\n",
      "-rw-r--r--  1 satokota  staff  29404 Aug 19 10:38 practice1.ipynb\n",
      "-rw-r--r--  1 satokota  staff   7932 Aug 19 10:38 practice2.ipynb\n",
      "-rw-r--r--  1 satokota  staff  15308 Aug 19 11:18 practice3.ipynb\n",
      "-rw-r--r--  1 satokota  staff    177 Aug 19 09:43 sample.json\n",
      "-rw-r--r--  1 satokota  staff     51 Aug 19 09:33 sample.txt\n",
      "\n"
     ]
    }
   ],
   "source": [
    "# jupyter上ではこのようにしないとUnixコマンドが使えない\n",
    "print(os.popen('ls -l').read())"
   ]
  },
  {
   "cell_type": "code",
   "execution_count": 24,
   "id": "689f41a5-e861-4141-af89-35a23127e78c",
   "metadata": {},
   "outputs": [
    {
     "name": "stdout",
     "output_type": "stream",
     "text": [
      "total 128\n",
      "-rw-r--r--  1 satokota  staff  29404 Aug 19 10:38 practice1.ipynb\n",
      "-rw-r--r--  1 satokota  staff   7932 Aug 19 10:38 practice2.ipynb\n",
      "-rw-r--r--  1 satokota  staff  15308 Aug 19 11:18 practice3.ipynb\n",
      "-rw-r--r--  1 satokota  staff    177 Aug 19 09:43 sample.json\n",
      "-rw-r--r--  1 satokota  staff     51 Aug 19 09:33 sample.txt\n"
     ]
    }
   ],
   "source": [
    "!ls -l"
   ]
  },
  {
   "cell_type": "code",
   "execution_count": 25,
   "id": "12079b13-2b59-442f-af65-2bba82192f9f",
   "metadata": {},
   "outputs": [],
   "source": [
    "import numpy as np"
   ]
  },
  {
   "cell_type": "code",
   "execution_count": 26,
   "id": "bad0edbb-c2eb-4f64-b7bf-ba09cc341675",
   "metadata": {},
   "outputs": [],
   "source": [
    "a = np.array([1, 2, 3, 4])"
   ]
  },
  {
   "cell_type": "code",
   "execution_count": 27,
   "id": "d75c819b-58e4-4fb5-ba72-c5e2c6621db4",
   "metadata": {},
   "outputs": [
    {
     "data": {
      "text/plain": [
       "array([1, 2, 3, 4])"
      ]
     },
     "execution_count": 27,
     "metadata": {},
     "output_type": "execute_result"
    }
   ],
   "source": [
    "a"
   ]
  },
  {
   "cell_type": "code",
   "execution_count": 28,
   "id": "67565569-aa60-42dc-9508-761a6f415ea7",
   "metadata": {},
   "outputs": [
    {
     "data": {
      "text/plain": [
       "(4,)"
      ]
     },
     "execution_count": 28,
     "metadata": {},
     "output_type": "execute_result"
    }
   ],
   "source": [
    "a.shape"
   ]
  },
  {
   "cell_type": "code",
   "execution_count": 29,
   "id": "886d5966-1cca-4cb9-bd07-4cd0556770ae",
   "metadata": {},
   "outputs": [],
   "source": [
    "b = np.array([[1, 2],\n",
    "             [3, 4]])"
   ]
  },
  {
   "cell_type": "code",
   "execution_count": 30,
   "id": "859fdd72-388b-4036-af39-1e8186cf6110",
   "metadata": {},
   "outputs": [
    {
     "data": {
      "text/plain": [
       "array([[1, 2],\n",
       "       [3, 4]])"
      ]
     },
     "execution_count": 30,
     "metadata": {},
     "output_type": "execute_result"
    }
   ],
   "source": [
    "b"
   ]
  },
  {
   "cell_type": "code",
   "execution_count": 31,
   "id": "2a5d6df0-27ff-4961-9baf-1bd46defacec",
   "metadata": {},
   "outputs": [
    {
     "data": {
      "text/plain": [
       "(2, 2)"
      ]
     },
     "execution_count": 31,
     "metadata": {},
     "output_type": "execute_result"
    }
   ],
   "source": [
    "b.shape"
   ]
  },
  {
   "cell_type": "code",
   "execution_count": 32,
   "id": "f95be65f-542a-4852-af4f-5984e30f2d57",
   "metadata": {},
   "outputs": [
    {
     "data": {
      "text/plain": [
       "array([0., 0., 0., 0., 0., 0., 0., 0.])"
      ]
     },
     "execution_count": 32,
     "metadata": {},
     "output_type": "execute_result"
    }
   ],
   "source": [
    "np.zeros(8, )"
   ]
  },
  {
   "cell_type": "code",
   "execution_count": 33,
   "id": "b2af675c-4324-4ead-b3ec-72714a1e3399",
   "metadata": {},
   "outputs": [
    {
     "data": {
      "text/plain": [
       "array([[0., 0., 0.],\n",
       "       [0., 0., 0.],\n",
       "       [0., 0., 0.],\n",
       "       [0., 0., 0.]])"
      ]
     },
     "execution_count": 33,
     "metadata": {},
     "output_type": "execute_result"
    }
   ],
   "source": [
    "np.zeros((4, 3))"
   ]
  },
  {
   "cell_type": "code",
   "execution_count": 34,
   "id": "6473cc46-d6a0-4dca-9b62-bd15cbae2843",
   "metadata": {},
   "outputs": [
    {
     "data": {
      "text/plain": [
       "array([[1., 0., 0., 0., 0.],\n",
       "       [0., 1., 0., 0., 0.],\n",
       "       [0., 0., 1., 0., 0.],\n",
       "       [0., 0., 0., 1., 0.],\n",
       "       [0., 0., 0., 0., 1.]])"
      ]
     },
     "execution_count": 34,
     "metadata": {},
     "output_type": "execute_result"
    }
   ],
   "source": [
    "np.eye(5)"
   ]
  },
  {
   "cell_type": "code",
   "execution_count": 35,
   "id": "576d2e9a-2193-4a52-b0fe-5737ecd234f0",
   "metadata": {},
   "outputs": [
    {
     "data": {
      "text/plain": [
       "array([[1., 1., 1., 1., 1.],\n",
       "       [1., 1., 1., 1., 1.],\n",
       "       [1., 1., 1., 1., 1.],\n",
       "       [1., 1., 1., 1., 1.],\n",
       "       [1., 1., 1., 1., 1.]])"
      ]
     },
     "execution_count": 35,
     "metadata": {},
     "output_type": "execute_result"
    }
   ],
   "source": [
    "np.ones((5, 5))"
   ]
  },
  {
   "cell_type": "code",
   "execution_count": null,
   "id": "0db3e51c-b683-4176-93ca-d4d13fd8f8ef",
   "metadata": {},
   "outputs": [],
   "source": []
  }
 ],
 "metadata": {
  "kernelspec": {
   "display_name": "Python 3.8.8 64-bit ('base': conda)",
   "language": "python",
   "name": "python388jvsc74a57bd0b167257435bc6644d991b1c1a5c421a8608cd3c9699761caa215cc6281d6ba38"
  },
  "language_info": {
   "codemirror_mode": {
    "name": "ipython",
    "version": 3
   },
   "file_extension": ".py",
   "mimetype": "text/x-python",
   "name": "python",
   "nbconvert_exporter": "python",
   "pygments_lexer": "ipython3",
   "version": "3.8.8"
  }
 },
 "nbformat": 4,
 "nbformat_minor": 5
}
