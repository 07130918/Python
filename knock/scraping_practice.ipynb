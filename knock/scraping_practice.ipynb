{
 "cells": [
  {
   "cell_type": "code",
   "execution_count": 1,
   "id": "ab5b9efa-4162-4424-8b64-1726585d610b",
   "metadata": {},
   "outputs": [],
   "source": [
    "from selenium import webdriver\n",
    "from webdriver_manager.chrome import ChromeDriverManager"
   ]
  },
  {
   "cell_type": "code",
   "execution_count": 2,
   "id": "c83f47f7-59a6-4805-93da-bb186e13d3cb",
   "metadata": {},
   "outputs": [
    {
     "name": "stderr",
     "output_type": "stream",
     "text": [
      "\n",
      "\n",
      "====== WebDriver manager ======\n",
      "Current google-chrome version is 92.0.4515\n",
      "Get LATEST driver version for 92.0.4515\n",
      "Driver [/Users/satokota/.wdm/drivers/chromedriver/mac64/92.0.4515.107/chromedriver] found in cache\n"
     ]
    }
   ],
   "source": [
    "browser = webdriver.Chrome(ChromeDriverManager().install())"
   ]
  },
  {
   "cell_type": "code",
   "execution_count": 3,
   "id": "37a5ab13-7d7b-49d2-aa22-2c766c3047ba",
   "metadata": {},
   "outputs": [],
   "source": [
    "browser.get('https://scraping-for-beginner.herokuapp.com/login_page')"
   ]
  },
  {
   "cell_type": "code",
   "execution_count": 4,
   "id": "db3cb542-2f1c-4be2-8536-9d994f5ccaec",
   "metadata": {},
   "outputs": [],
   "source": [
    "elem_username = browser.find_element_by_id('username')\n",
    "elem_username.send_keys('imanishi')\n",
    "elem_password = browser.find_element_by_id('password')\n",
    "elem_password.send_keys('kohei')\n",
    "browser.find_element_by_id('login-btn').click()"
   ]
  },
  {
   "cell_type": "code",
   "execution_count": 5,
   "id": "785af705-188d-4daf-86ef-4fd6a9ac5c69",
   "metadata": {},
   "outputs": [],
   "source": [
    "elem_tbody = browser.find_element_by_tag_name('tbody')"
   ]
  },
  {
   "cell_type": "code",
   "execution_count": 6,
   "id": "32499b4c-daff-4272-a914-722f42af5cf8",
   "metadata": {},
   "outputs": [
    {
     "data": {
      "text/plain": [
       "'講師名'"
      ]
     },
     "execution_count": 6,
     "metadata": {},
     "output_type": "execute_result"
    }
   ],
   "source": [
    "elem_tbody.find_elements_by_tag_name('th')[0].text"
   ]
  },
  {
   "cell_type": "code",
   "execution_count": 7,
   "id": "50423898-ea5c-498c-92bb-e7741142b509",
   "metadata": {},
   "outputs": [
    {
     "data": {
      "text/plain": [
       "'千葉県'"
      ]
     },
     "execution_count": 7,
     "metadata": {},
     "output_type": "execute_result"
    }
   ],
   "source": [
    "elem_tbody.find_elements_by_tag_name('td')[3].text"
   ]
  },
  {
   "cell_type": "code",
   "execution_count": 8,
   "id": "d086d378-fd01-432f-b23f-742650fec581",
   "metadata": {},
   "outputs": [
    {
     "data": {
      "text/plain": [
       "'https://scraping-for-beginner.herokuapp.com/udemy'"
      ]
     },
     "execution_count": 8,
     "metadata": {},
     "output_type": "execute_result"
    }
   ],
   "source": [
    "elem_nav = browser.find_element_by_id('nav-mobile')\n",
    "elem_nav.find_elements_by_tag_name('li')[3].find_element_by_tag_name('a').get_attribute('href')"
   ]
  },
  {
   "cell_type": "code",
   "execution_count": 9,
   "id": "94af7c87-2389-4fe5-a62c-cef32b2215d1",
   "metadata": {},
   "outputs": [
    {
     "data": {
      "text/plain": [
       "'今西 航平'"
      ]
     },
     "execution_count": 9,
     "metadata": {},
     "output_type": "execute_result"
    }
   ],
   "source": [
    "browser.find_element_by_css_selector('#name').text"
   ]
  },
  {
   "cell_type": "code",
   "execution_count": 10,
   "id": "6e6edaaf-1983-4f1e-9970-e202b26d69f5",
   "metadata": {},
   "outputs": [
    {
     "data": {
      "text/plain": [
       "'今西 航平'"
      ]
     },
     "execution_count": 10,
     "metadata": {},
     "output_type": "execute_result"
    }
   ],
   "source": [
    "browser.find_element_by_xpath('//*[@id=\"name\"]').text"
   ]
  },
  {
   "cell_type": "code",
   "execution_count": 11,
   "id": "d4303d67-4eee-49d9-8559-5b4c34fdbe95",
   "metadata": {},
   "outputs": [],
   "source": [
    "browser.get('https://scraping-for-beginner.herokuapp.com/ranking/')"
   ]
  },
  {
   "cell_type": "code",
   "execution_count": 12,
   "id": "a8edcf86-8174-4d58-bdd0-9a3904d0baf2",
   "metadata": {},
   "outputs": [
    {
     "data": {
      "text/plain": [
       "7961"
      ]
     },
     "execution_count": 12,
     "metadata": {},
     "output_type": "execute_result"
    }
   ],
   "source": [
    "# scrollの実行\n",
    "browser.execute_script('return document.body.scrollHeight')"
   ]
  },
  {
   "cell_type": "code",
   "execution_count": 13,
   "id": "fb6a2c40-0296-4758-89a9-8aa343cffee0",
   "metadata": {},
   "outputs": [],
   "source": [
    "browser.execute_script('window.scrollTo(0, 7985);')"
   ]
  },
  {
   "cell_type": "code",
   "execution_count": 14,
   "id": "3c9099f7-59cd-46d7-9d4f-87cc66727c49",
   "metadata": {},
   "outputs": [],
   "source": [
    "browser.quit()"
   ]
  },
  {
   "cell_type": "code",
   "execution_count": 15,
   "id": "ea389c93-e0ba-4c8c-907d-2f09723f8726",
   "metadata": {},
   "outputs": [],
   "source": [
    "#ヘッドレスモード(裏で起動)\n",
    "from selenium.webdriver.chrome.options import Options"
   ]
  },
  {
   "cell_type": "code",
   "execution_count": 16,
   "id": "0bf37107-ff0f-444c-9748-9b1d35d1d861",
   "metadata": {},
   "outputs": [],
   "source": [
    "options = Options()\n",
    "options.add_argument('--headless')"
   ]
  },
  {
   "cell_type": "code",
   "execution_count": 17,
   "id": "d0bf1d41-3920-418d-b141-1beaeb950294",
   "metadata": {},
   "outputs": [
    {
     "name": "stderr",
     "output_type": "stream",
     "text": [
      "\n",
      "\n",
      "====== WebDriver manager ======\n",
      "Current google-chrome version is 92.0.4515\n",
      "Get LATEST driver version for 92.0.4515\n",
      "Driver [/Users/satokota/.wdm/drivers/chromedriver/mac64/92.0.4515.107/chromedriver] found in cache\n"
     ]
    }
   ],
   "source": [
    "browser = webdriver.Chrome(ChromeDriverManager().install(), options=options)"
   ]
  },
  {
   "cell_type": "code",
   "execution_count": 18,
   "id": "db89aa5b-3ce5-468b-91ea-af0bfeaebc70",
   "metadata": {},
   "outputs": [
    {
     "data": {
      "text/plain": [
       "'講師名'"
      ]
     },
     "execution_count": 18,
     "metadata": {},
     "output_type": "execute_result"
    }
   ],
   "source": [
    "browser.get('https://scraping-for-beginner.herokuapp.com/login_page')\n",
    "elem_username = browser.find_element_by_id('username')\n",
    "elem_username.send_keys('imanishi')\n",
    "elem_password = browser.find_element_by_id('password')\n",
    "elem_password.send_keys('kohei')\n",
    "\n",
    "browser.find_element_by_id('login-btn').click()\n",
    "elem_tbody = browser.find_element_by_tag_name('tbody')\n",
    "elem_tbody.find_elements_by_tag_name('th')[0].text"
   ]
  },
  {
   "cell_type": "code",
   "execution_count": 19,
   "id": "34d15c50-8f76-4503-8b4f-c2e5c43b19b5",
   "metadata": {},
   "outputs": [
    {
     "name": "stderr",
     "output_type": "stream",
     "text": [
      "\n",
      "\n",
      "====== WebDriver manager ======\n",
      "Current google-chrome version is 92.0.4515\n",
      "Get LATEST driver version for 92.0.4515\n",
      "Driver [/Users/satokota/.wdm/drivers/chromedriver/mac64/92.0.4515.107/chromedriver] found in cache\n"
     ]
    }
   ],
   "source": [
    "browser = webdriver.Chrome(ChromeDriverManager().install(), options=options)\n",
    "browser.get('https://jp.techcrunch.com/')\n",
    "browser.set_window_size(1600, 1200)"
   ]
  },
  {
   "cell_type": "code",
   "execution_count": 20,
   "id": "09d3db12-32a2-4565-9fcf-f02b75e44881",
   "metadata": {},
   "outputs": [
    {
     "data": {
      "text/plain": [
       "True"
      ]
     },
     "execution_count": 20,
     "metadata": {},
     "output_type": "execute_result"
    }
   ],
   "source": [
    "browser.save_screenshot('ss.png')"
   ]
  },
  {
   "cell_type": "code",
   "execution_count": null,
   "id": "8459cbb6-ecd4-4742-b3b1-568716c13ed8",
   "metadata": {},
   "outputs": [],
   "source": []
  }
 ],
 "metadata": {
  "kernelspec": {
   "display_name": "Python 3.8.8 64-bit ('base': conda)",
   "language": "python",
   "name": "python388jvsc74a57bd0b167257435bc6644d991b1c1a5c421a8608cd3c9699761caa215cc6281d6ba38"
  },
  "language_info": {
   "codemirror_mode": {
    "name": "ipython",
    "version": 3
   },
   "file_extension": ".py",
   "mimetype": "text/x-python",
   "name": "python",
   "nbconvert_exporter": "python",
   "pygments_lexer": "ipython3",
   "version": "3.8.8"
  }
 },
 "nbformat": 4,
 "nbformat_minor": 5
}
