{
 "cells": [
  {
   "cell_type": "code",
   "execution_count": 1,
   "id": "e83420d6",
   "metadata": {},
   "outputs": [],
   "source": [
    "dictionary = {\n",
    "    'A': 'apple',\n",
    "    'B': 'banana',\n",
    "    'C': 'orange'\n",
    "}"
   ]
  },
  {
   "cell_type": "code",
   "execution_count": 3,
   "id": "1bde3b2f",
   "metadata": {},
   "outputs": [
    {
     "data": {
      "text/plain": [
       "dict_keys(['A', 'B', 'C'])"
      ]
     },
     "execution_count": 3,
     "metadata": {},
     "output_type": "execute_result"
    }
   ],
   "source": [
    "dictionary.keys()"
   ]
  },
  {
   "cell_type": "code",
   "execution_count": 10,
   "id": "ee1e825b",
   "metadata": {},
   "outputs": [
    {
     "data": {
      "text/plain": [
       "dict_items([('A', 'apple'), ('B', 'banana'), ('C', 'orange')])"
      ]
     },
     "execution_count": 10,
     "metadata": {},
     "output_type": "execute_result"
    }
   ],
   "source": [
    "dictionary.items()"
   ]
  },
  {
   "cell_type": "code",
   "execution_count": 8,
   "id": "1c76e93f",
   "metadata": {},
   "outputs": [
    {
     "data": {
      "text/plain": [
       "True"
      ]
     },
     "execution_count": 8,
     "metadata": {},
     "output_type": "execute_result"
    }
   ],
   "source": [
    "'apple' in dictionary.values()"
   ]
  },
  {
   "cell_type": "code",
   "execution_count": 11,
   "id": "63e61e73",
   "metadata": {},
   "outputs": [
    {
     "data": {
      "text/plain": [
       "'orange'"
      ]
     },
     "execution_count": 11,
     "metadata": {},
     "output_type": "execute_result"
    }
   ],
   "source": [
    "dictionary['C']"
   ]
  },
  {
   "cell_type": "code",
   "execution_count": 12,
   "id": "88a03668",
   "metadata": {},
   "outputs": [],
   "source": [
    "dictionary.get('F')"
   ]
  },
  {
   "cell_type": "code",
   "execution_count": 13,
   "id": "e64fd33e",
   "metadata": {},
   "outputs": [
    {
     "ename": "KeyError",
     "evalue": "'F'",
     "output_type": "error",
     "traceback": [
      "\u001b[0;31m---------------------------------------------------------------------------\u001b[0m",
      "\u001b[0;31mKeyError\u001b[0m                                  Traceback (most recent call last)",
      "\u001b[0;32m<ipython-input-13-54aa3b44b60f>\u001b[0m in \u001b[0;36m<module>\u001b[0;34m\u001b[0m\n\u001b[0;32m----> 1\u001b[0;31m \u001b[0mdictionary\u001b[0m\u001b[0;34m[\u001b[0m\u001b[0;34m'F'\u001b[0m\u001b[0;34m]\u001b[0m\u001b[0;34m\u001b[0m\u001b[0;34m\u001b[0m\u001b[0m\n\u001b[0m",
      "\u001b[0;31mKeyError\u001b[0m: 'F'"
     ]
    }
   ],
   "source": [
    "dictionary['F']"
   ]
  },
  {
   "cell_type": "code",
   "execution_count": 20,
   "id": "a4ebb6a8",
   "metadata": {},
   "outputs": [
    {
     "name": "stdout",
     "output_type": "stream",
     "text": [
      "負の奇数です\n"
     ]
    }
   ],
   "source": [
    "a = -3\n",
    "if 0 <= a < 10 and a % 2 == 0:\n",
    "    print('aは偶数です')\n",
    "elif a < 0 and a % 2 == 1:\n",
    "    print('負の奇数です')"
   ]
  },
  {
   "cell_type": "code",
   "execution_count": 25,
   "id": "3b9ba2f6",
   "metadata": {},
   "outputs": [
    {
     "name": "stdout",
     "output_type": "stream",
     "text": [
      "0\n",
      "1\n",
      "2\n",
      "4\n",
      "5\n",
      "終了!\n"
     ]
    }
   ],
   "source": [
    "for i in range(10):\n",
    "    if i == 3:\n",
    "        continue\n",
    "    if i == 6:\n",
    "        print('終了!')\n",
    "        break\n",
    "    print(i)"
   ]
  },
  {
   "cell_type": "code",
   "execution_count": 28,
   "id": "4c0eeb49",
   "metadata": {},
   "outputs": [
    {
     "name": "stdout",
     "output_type": "stream",
     "text": [
      "加藤雄一\n",
      "佐藤拓哉\n",
      "田中太郎\n"
     ]
    }
   ],
   "source": [
    "lasts = ['加藤', '佐藤', '田中']\n",
    "firsts = ['雄一', '拓哉', '太郎']\n",
    "for last, first in zip(lasts, firsts):\n",
    "    print(last+first)"
   ]
  },
  {
   "cell_type": "code",
   "execution_count": 33,
   "id": "41c3cd7a",
   "metadata": {},
   "outputs": [
    {
     "name": "stdout",
     "output_type": "stream",
     "text": [
      "0番の加藤です\n",
      "1番の佐藤です\n",
      "2番の田中です\n"
     ]
    }
   ],
   "source": [
    "for i, last in enumerate(lasts):\n",
    "    print(f'{i}番の{last}です')\n",
    "    "
   ]
  },
  {
   "cell_type": "code",
   "execution_count": 38,
   "id": "4636ff46",
   "metadata": {},
   "outputs": [
    {
     "data": {
      "text/plain": [
       "[0, 2, 4, 6, 8]"
      ]
     },
     "execution_count": 38,
     "metadata": {},
     "output_type": "execute_result"
    }
   ],
   "source": [
    "numbers = [i for i in range(9) if i % 2 == 0 ]\n",
    "numbers"
   ]
  },
  {
   "cell_type": "code",
   "execution_count": 51,
   "id": "3dd8323d",
   "metadata": {},
   "outputs": [
    {
     "name": "stdout",
     "output_type": "stream",
     "text": [
      "全ての処理が終了しました\n"
     ]
    }
   ],
   "source": [
    "num = \"0\"\n",
    "try:\n",
    "    print(10 / num)\n",
    "except ZeroDivisionError as e:\n",
    "    print('Error', e)\n",
    "except TypeError as e:\n",
    "#     print('型が異なります', e)\n",
    "    pass\n",
    "else:\n",
    "    print('正常に終了しました')\n",
    "finally:\n",
    "    print('全ての処理が終了しました')"
   ]
  },
  {
   "cell_type": "code",
   "execution_count": 67,
   "id": "86f07f55",
   "metadata": {},
   "outputs": [],
   "source": [
    "class Person(object):\n",
    "    def __init__(self, name):\n",
    "        self.nationality = 'Japan'\n",
    "        self.name = name\n",
    "    \n",
    "    def say_hello(self):\n",
    "        print(f'こんにちは。私の国籍は{self.nationality}です。')\n",
    "        \n",
    "    def say_my_name(self):\n",
    "        print(f'私の名前は{self.name}です。')"
   ]
  },
  {
   "cell_type": "code",
   "execution_count": 68,
   "id": "287a377a",
   "metadata": {},
   "outputs": [
    {
     "name": "stdout",
     "output_type": "stream",
     "text": [
      "こんにちは。私の国籍はJapanです。\n",
      "私の名前はJohnです。\n"
     ]
    }
   ],
   "source": [
    "john = Person(\"John\")\n",
    "john.say_hello()\n",
    "john.say_my_name()"
   ]
  },
  {
   "cell_type": "code",
   "execution_count": 73,
   "id": "0968098e",
   "metadata": {},
   "outputs": [],
   "source": [
    "class Kid(Person):\n",
    "    def __init__(sellf, name):\n",
    "        super().__init__(name)\n",
    "    \n",
    "    def say_hello(self, age):\n",
    "        print(f'私の名前は{self.name}です。年齢は{age}歳です。')"
   ]
  },
  {
   "cell_type": "code",
   "execution_count": 76,
   "id": "20715808",
   "metadata": {},
   "outputs": [
    {
     "name": "stdout",
     "output_type": "stream",
     "text": [
      "私の名前はjackです。\n",
      "私の名前はjackです。年齢は9歳です。\n"
     ]
    }
   ],
   "source": [
    "jack = Kid(\"jack\")\n",
    "jack.say_my_name()\n",
    "jack.say_hello(9)"
   ]
  },
  {
   "cell_type": "code",
   "execution_count": null,
   "id": "e303b716",
   "metadata": {},
   "outputs": [],
   "source": []
  }
 ],
 "metadata": {
  "kernelspec": {
   "display_name": "Python 3",
   "language": "python",
   "name": "python3"
  },
  "language_info": {
   "codemirror_mode": {
    "name": "ipython",
    "version": 3
   },
   "file_extension": ".py",
   "mimetype": "text/x-python",
   "name": "python",
   "nbconvert_exporter": "python",
   "pygments_lexer": "ipython3",
   "version": "3.8.8"
  }
 },
 "nbformat": 4,
 "nbformat_minor": 5
}
