{
 "cells": [
  {
   "cell_type": "code",
   "execution_count": 2,
   "id": "728eeaf0",
   "metadata": {},
   "outputs": [
    {
     "name": "stdin",
     "output_type": "stream",
     "text": [
      "スポーツの名前を入力： サッカー\n",
      "スポーツの名前を入力： 野球\n",
      "スポーツの名前を入力： \n"
     ]
    },
    {
     "name": "stdout",
     "output_type": "stream",
     "text": [
      "サッカー\n",
      "野球\n",
      "以上です\n"
     ]
    }
   ],
   "source": [
    "sports = []\n",
    "\n",
    "# リストへ登録\n",
    "while True:\n",
    "    s = input(\"スポーツの名前を入力：\")\n",
    "    if s == \"\":\n",
    "        break\n",
    "\n",
    "    sports.append(s)\n",
    "\n",
    "# リストから1件ずつ表示\n",
    "for s in sports:\n",
    "    print(s)\n",
    "\n",
    "print(\"以上です\")\n"
   ]
  },
  {
   "cell_type": "code",
   "execution_count": 16,
   "id": "17879709",
   "metadata": {},
   "outputs": [
    {
     "data": {
      "text/plain": [
       "[(1, 4, 7, 10), (2, 5, 8, 11)]"
      ]
     },
     "execution_count": 16,
     "metadata": {},
     "output_type": "execute_result"
    }
   ],
   "source": [
    "list(t_a)"
   ]
  },
  {
   "cell_type": "code",
   "execution_count": null,
   "id": "3d2d022b",
   "metadata": {},
   "outputs": [],
   "source": []
  }
 ],
 "metadata": {
  "kernelspec": {
   "display_name": "Python 3 (ipykernel)",
   "language": "python",
   "name": "python3"
  },
  "language_info": {
   "codemirror_mode": {
    "name": "ipython",
    "version": 3
   },
   "file_extension": ".py",
   "mimetype": "text/x-python",
   "name": "python",
   "nbconvert_exporter": "python",
   "pygments_lexer": "ipython3",
   "version": "3.8.3"
  }
 },
 "nbformat": 4,
 "nbformat_minor": 5
}
