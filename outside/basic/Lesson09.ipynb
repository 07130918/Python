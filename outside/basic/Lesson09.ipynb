{
 "cells": [
  {
   "cell_type": "code",
   "execution_count": 55,
   "id": "0d1cd696",
   "metadata": {},
   "outputs": [],
   "source": [
    "from dogs import Dog2, English_Dog2, Japanese_Dog2"
   ]
  },
  {
   "cell_type": "code",
   "execution_count": 56,
   "id": "40534011",
   "metadata": {},
   "outputs": [],
   "source": [
    "# 継承とポリモーフィズム\n",
    "class Dog:\n",
    "    country = \"世界\"\n",
    "    voice = \"国によって変わる\"\n",
    "\n",
    "    def __init__(self, name):\n",
    "        self.name = name\n",
    "\n",
    "    def bark(self):\n",
    "        print(self.voice)\n",
    "\n",
    "    @classmethod\n",
    "    def description(self):\n",
    "        print(f\"{self.country}の犬の鳴き声は{self.voice}\")\n",
    "\n",
    "class English_Dog(Dog):\n",
    "    country = \"英語圏\"\n",
    "    voice = \"bow!\"\n",
    "\n",
    "    def __init__(self, name = \"Buddy\"):\n",
    "        super().__init__(name)\n",
    "\n",
    "class Japanese_Dog(Dog):\n",
    "    country = \"日本\"\n",
    "    voice = \"ワン！\"\n",
    "\n",
    "    def __init__(self, name = \"ポチ\"):\n",
    "        super().__init__(name)"
   ]
  },
  {
   "cell_type": "code",
   "execution_count": 57,
   "id": "7773a51a",
   "metadata": {},
   "outputs": [
    {
     "name": "stdout",
     "output_type": "stream",
     "text": [
      "世界の犬の鳴き声は国によって変わる\n",
      "犬\n",
      "国によって変わる\n",
      "英語圏の犬の鳴き声はbow!\n",
      "Buddy\n",
      "bow!\n",
      "Jake\n",
      "bow!\n",
      "日本の犬の鳴き声はワン！\n",
      "ポチ\n",
      "ワン！\n",
      "シロ\n",
      "ワン！\n"
     ]
    }
   ],
   "source": [
    "Dog.description()\n",
    "\n",
    "dog = Dog(\"犬\")\n",
    "print(dog.name)\n",
    "dog.bark()\n",
    "\n",
    "English_Dog.description()\n",
    "\n",
    "buddy = English_Dog()\n",
    "print(buddy.name)\n",
    "buddy.bark()\n",
    "\n",
    "jake = English_Dog(\"Jake\")\n",
    "print(jake.name)\n",
    "jake.bark()\n",
    "\n",
    "Japanese_Dog.description()\n",
    "\n",
    "pochi = Japanese_Dog()\n",
    "print(pochi.name)\n",
    "pochi.bark()\n",
    "\n",
    "shiro = Japanese_Dog(\"シロ\")\n",
    "print(shiro.name)\n",
    "shiro.bark()"
   ]
  },
  {
   "cell_type": "code",
   "execution_count": 58,
   "id": "efd55d25",
   "metadata": {},
   "outputs": [],
   "source": [
    "# カプセル化\n",
    "class Human2:\n",
    "    def __init__(self, name):\n",
    "        self.set_name(name)\n",
    "\n",
    "    def get_name(self):\n",
    "        return self.__name\n",
    "\n",
    "    def set_name(self, name):\n",
    "        self.__name = name"
   ]
  },
  {
   "cell_type": "code",
   "execution_count": 59,
   "id": "995ac2d6",
   "metadata": {},
   "outputs": [
    {
     "name": "stdout",
     "output_type": "stream",
     "text": [
      "さとう\n"
     ]
    }
   ],
   "source": [
    "sato = Human2(\"さとう\")\n",
    "print(sato.get_name())"
   ]
  },
  {
   "cell_type": "code",
   "execution_count": 60,
   "id": "d65144fc",
   "metadata": {},
   "outputs": [
    {
     "name": "stdout",
     "output_type": "stream",
     "text": [
      "世界の犬の鳴き声は国によって変わる\n",
      "犬\n",
      "国によって変わる\n",
      "英語圏の犬の鳴き声はbow!\n",
      "Buddy\n",
      "bow!\n",
      "Jake\n",
      "bow!\n",
      "日本の犬の鳴き声はワン！\n",
      "ポチ\n",
      "ワン！\n",
      "シロ\n",
      "ワン！\n"
     ]
    }
   ],
   "source": [
    "Dog2.description()\n",
    "\n",
    "dog = Dog2(\"犬\")\n",
    "print(dog.name)\n",
    "dog.bark()\n",
    "\n",
    "English_Dog2.description()\n",
    "\n",
    "buddy = English_Dog2()\n",
    "print(buddy.name)\n",
    "buddy.bark()\n",
    "\n",
    "jake = English_Dog2(\"Jake\")\n",
    "print(jake.name)\n",
    "jake.bark()\n",
    "\n",
    "Japanese_Dog2.description()\n",
    "\n",
    "pochi = Japanese_Dog2()\n",
    "print(pochi.name)\n",
    "pochi.bark()\n",
    "\n",
    "shiro = Japanese_Dog2(\"シロ\")\n",
    "print(shiro.name)\n",
    "shiro.bark()"
   ]
  },
  {
   "cell_type": "code",
   "execution_count": null,
   "id": "45204279",
   "metadata": {},
   "outputs": [],
   "source": []
  }
 ],
 "metadata": {
  "kernelspec": {
   "display_name": "Python 3 (ipykernel)",
   "language": "python",
   "name": "python3"
  },
  "language_info": {
   "codemirror_mode": {
    "name": "ipython",
    "version": 3
   },
   "file_extension": ".py",
   "mimetype": "text/x-python",
   "name": "python",
   "nbconvert_exporter": "python",
   "pygments_lexer": "ipython3",
   "version": "3.8.3"
  }
 },
 "nbformat": 4,
 "nbformat_minor": 5
}
