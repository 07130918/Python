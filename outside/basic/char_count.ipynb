{
 "cells": [
  {
   "cell_type": "code",
   "execution_count": 5,
   "id": "29661da1",
   "metadata": {},
   "outputs": [],
   "source": [
    "import string"
   ]
  },
  {
   "cell_type": "code",
   "execution_count": 7,
   "id": "c77e5bfe",
   "metadata": {},
   "outputs": [
    {
     "name": "stdin",
     "output_type": "stream",
     "text": [
      "英単語を入力してください： dd\n",
      "英単語を入力してください： \n"
     ]
    },
    {
     "name": "stdout",
     "output_type": "stream",
     "text": [
      "入力した英単語：['dd']\n",
      "dict_items([('a', 0), ('b', 0), ('c', 0), ('d', 2), ('e', 0), ('f', 0), ('g', 0), ('h', 0), ('i', 0), ('j', 0), ('k', 0), ('l', 0), ('m', 0), ('n', 0), ('o', 0), ('p', 0), ('q', 0), ('r', 0), ('s', 0), ('t', 0), ('u', 0), ('v', 0), ('w', 0), ('x', 0), ('y', 0), ('z', 0)])\n",
      "dが2個ありました\n"
     ]
    }
   ],
   "source": [
    "words = []\n",
    "alphabet_dict = dict.fromkeys((string.ascii_lowercase), 0)\n",
    "while True:\n",
    "    word = input(\"英単語を入力してください：\")\n",
    "    if not word:\n",
    "        break\n",
    "    \n",
    "    words.append(word)\n",
    "    for alphabet in word:\n",
    "        alphabet_dict[alphabet] += 1\n",
    "\n",
    "print(f\"入力した英単語：{sorted(words)}\")\n",
    "print(alphabet_dict.items())\n",
    "for key, value in alphabet_dict.items():\n",
    "    if value:\n",
    "        print(f\"{key}が{value}個ありました\")"
   ]
  },
  {
   "cell_type": "code",
   "execution_count": null,
   "id": "63120782",
   "metadata": {},
   "outputs": [],
   "source": []
  }
 ],
 "metadata": {
  "kernelspec": {
   "display_name": "Python 3 (ipykernel)",
   "language": "python",
   "name": "python3"
  },
  "language_info": {
   "codemirror_mode": {
    "name": "ipython",
    "version": 3
   },
   "file_extension": ".py",
   "mimetype": "text/x-python",
   "name": "python",
   "nbconvert_exporter": "python",
   "pygments_lexer": "ipython3",
   "version": "3.8.3"
  }
 },
 "nbformat": 4,
 "nbformat_minor": 5
}
