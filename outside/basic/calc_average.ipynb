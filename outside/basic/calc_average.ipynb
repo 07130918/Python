{
 "cells": [
  {
   "cell_type": "code",
   "execution_count": 1,
   "id": "40e5e4b1",
   "metadata": {},
   "outputs": [
    {
     "name": "stdin",
     "output_type": "stream",
     "text": [
      "点数を入力してください： ５\n",
      "点数を入力してください： ４\n",
      "点数を入力してください： ３\n",
      "点数を入力してください： -1\n"
     ]
    },
    {
     "name": "stdout",
     "output_type": "stream",
     "text": [
      "3人のテストの平均点は4.0点です\n"
     ]
    }
   ],
   "source": [
    "sum = 0\n",
    "i = 0\n",
    "while True:\n",
    "    score = int(input(\"点数を入力してください：\"))\n",
    "    if score == -1:\n",
    "        average = sum / i\n",
    "        print(f\"{i}人のテストの平均点は{average}点です\")\n",
    "        break   \n",
    "        \n",
    "    sum += score\n",
    "    i += 1"
   ]
  },
  {
   "cell_type": "code",
   "execution_count": null,
   "id": "53f2571e",
   "metadata": {},
   "outputs": [],
   "source": []
  }
 ],
 "metadata": {
  "kernelspec": {
   "display_name": "Python 3 (ipykernel)",
   "language": "python",
   "name": "python3"
  },
  "language_info": {
   "codemirror_mode": {
    "name": "ipython",
    "version": 3
   },
   "file_extension": ".py",
   "mimetype": "text/x-python",
   "name": "python",
   "nbconvert_exporter": "python",
   "pygments_lexer": "ipython3",
   "version": "3.8.3"
  }
 },
 "nbformat": 4,
 "nbformat_minor": 5
}
