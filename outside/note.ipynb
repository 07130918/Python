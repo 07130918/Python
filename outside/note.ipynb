{
 "cells": [
  {
   "cell_type": "code",
   "execution_count": 4,
   "id": "947421e2",
   "metadata": {},
   "outputs": [],
   "source": [
    "fruits = ['apple', 'peach', 'strawberry', 'orange']"
   ]
  },
  {
   "cell_type": "code",
   "execution_count": 5,
   "id": "5cfc5987",
   "metadata": {},
   "outputs": [
    {
     "data": {
      "text/plain": [
       "'orange'"
      ]
     },
     "execution_count": 5,
     "metadata": {},
     "output_type": "execute_result"
    }
   ],
   "source": [
    "fruits.pop()"
   ]
  },
  {
   "cell_type": "code",
   "execution_count": 6,
   "id": "87d88316",
   "metadata": {},
   "outputs": [
    {
     "data": {
      "text/plain": [
       "['apple', 'peach', 'strawberry']"
      ]
     },
     "execution_count": 6,
     "metadata": {},
     "output_type": "execute_result"
    }
   ],
   "source": [
    "fruits"
   ]
  },
  {
   "cell_type": "code",
   "execution_count": 7,
   "id": "2c213345",
   "metadata": {},
   "outputs": [
    {
     "name": "stdout",
     "output_type": "stream",
     "text": [
      "5\n"
     ]
    }
   ],
   "source": [
    "list_2d = [[1, 2, 3], [4, 5, 6], [7, 8, 9], [10, 11, 12]]\n",
    "print(list_2d[1][1])"
   ]
  },
  {
   "cell_type": "code",
   "execution_count": 8,
   "id": "b84e4391",
   "metadata": {},
   "outputs": [
    {
     "name": "stdout",
     "output_type": "stream",
     "text": [
      "[[0, 1, 2, 3, 4, 5, 6, 7, 8, 9, 10], [1, 2, 3, 4, 5, 6, 7, 8, 9, 10, 11], [2, 3, 4, 5, 6, 7, 8, 9, 10, 11, 12], [3, 4, 5, 6, 7, 8, 9, 10, 11, 12, 13], [4, 5, 6, 7, 8, 9, 10, 11, 12, 13, 14], [5, 6, 7, 8, 9, 10, 11, 12, 13, 14, 15], [6, 7, 8, 9, 10, 11, 12, 13, 14, 15, 16], [7, 8, 9, 10, 11, 12, 13, 14, 15, 16, 17], [8, 9, 10, 11, 12, 13, 14, 15, 16, 17, 18], [9, 10, 11, 12, 13, 14, 15, 16, 17, 18, 19], [10, 11, 12, 13, 14, 15, 16, 17, 18, 19, 20]]\n"
     ]
    }
   ],
   "source": [
    "list_add = [[(x + y) for y in range(11)] for x in range(11)]\n",
    "print(list_add)"
   ]
  },
  {
   "cell_type": "code",
   "execution_count": 9,
   "id": "93e41b4c",
   "metadata": {},
   "outputs": [
    {
     "name": "stdout",
     "output_type": "stream",
     "text": [
      "<class 'tuple'>\n",
      "[1, 2, 3, 4]\n"
     ]
    }
   ],
   "source": [
    "t = (1,2,3,4)\n",
    "print(type(t))\n",
    "l = list(t)\n",
    "print(l)"
   ]
  },
  {
   "cell_type": "code",
   "execution_count": 10,
   "id": "1737af7f",
   "metadata": {},
   "outputs": [
    {
     "data": {
      "text/plain": [
       "[(1, 4, 7, 10), (2, 5, 8, 11)]"
      ]
     },
     "execution_count": 10,
     "metadata": {},
     "output_type": "execute_result"
    }
   ],
   "source": [
    "a0 = [ 1,  2,  3]\n",
    "a1 = [ 4,  5,  6]\n",
    "a2 = [ 7,  8,  9]\n",
    "a3 = [10, 11]\n",
    "t_a = zip(a0, a1, a2, a3)\n",
    "list(t_a)"
   ]
  },
  {
   "cell_type": "code",
   "execution_count": 16,
   "id": "64227805",
   "metadata": {},
   "outputs": [
    {
     "name": "stdout",
     "output_type": "stream",
     "text": [
      "[(1, 'baseball'), (2, 'soccer'), (3, 'volleyball'), (4, 'golf'), (5, 'tennis')]\n"
     ]
    }
   ],
   "source": [
    "sports = [\"baseball\", \"soccer\", \"volleyball\", \"golf\", \"tennis\"]\n",
    "temp_sports = enumerate(sports, 1)\n",
    "sports_tl = list(temp_sports)\n",
    "print(sports_tl)"
   ]
  },
  {
   "cell_type": "code",
   "execution_count": null,
   "id": "8e2944bf",
   "metadata": {},
   "outputs": [],
   "source": []
  }
 ],
 "metadata": {
  "kernelspec": {
   "display_name": "Python 3 (ipykernel)",
   "language": "python",
   "name": "python3"
  },
  "language_info": {
   "codemirror_mode": {
    "name": "ipython",
    "version": 3
   },
   "file_extension": ".py",
   "mimetype": "text/x-python",
   "name": "python",
   "nbconvert_exporter": "python",
   "pygments_lexer": "ipython3",
   "version": "3.8.3"
  }
 },
 "nbformat": 4,
 "nbformat_minor": 5
}
